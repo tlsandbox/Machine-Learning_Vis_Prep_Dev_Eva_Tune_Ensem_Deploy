{
    "nbformat": 4, 
    "cells": [
        {
            "source": "# Python Crash Course Part 4 Build & Optimize Models\n### This is meant for internal usage, not for commercial purpose\n### Timothy CL Lam 2017 DEC", 
            "cell_type": "markdown", 
            "metadata": {
                "collapsed": true
            }
        }, 
        {
            "source": "Let's talk about some algorithms", 
            "cell_type": "markdown", 
            "metadata": {}
        }, 
        {
            "source": "## Classification / Linear Algorithms", 
            "cell_type": "markdown", 
            "metadata": {}
        }, 
        {
            "source": "#### Logistic Regression:\nLogistic Regression\nLogistic regression assumes a Gaussian distribution for the numeric input variables and can\nmodel binary classi\fcation problems. You can construct a logistic regression model using the\nLogisticRegression class1.", 
            "cell_type": "markdown", 
            "metadata": {}
        }, 
        {
            "source": "### Linear Discriminant Analysis or LDA\nis a statistical technique for binary and multiclass\nclassi\fcation. It too assumes a Gaussian distribution for the numerical input variables. You can\nconstruct an LDA model using the LinearDiscriminantAnalysis class2.", 
            "cell_type": "markdown", 
            "metadata": {}
        }, 
        {
            "source": "## Classication / Non-linear Algorithms", 
            "cell_type": "markdown", 
            "metadata": {}
        }, 
        {
            "source": "### k-Nearest Neighbors\nThe k-Nearest Neighbors algorithm (or KNN) uses a distance metric to \fnd the k most similar\ninstances in the training data for a new instance and takes the mean outcome of the neighbors\nas the prediction. You can construct a KNN model using the KNeighborsClassifier class3.", 
            "cell_type": "markdown", 
            "metadata": {}
        }, 
        {
            "source": "### Naive Bayes\nNaive Bayes calculates the probability of each class and the conditional probability of each class\ngiven each input value. These probabilities are estimated for new data and multiplied together,\nassuming that they are all independent (a simple or naive assumption). When working with\nreal-valued data, a Gaussian distribution is assumed to easily estimate the probabilities for\ninput variables using the Gaussian Probability Density Function. You can construct a Naive\nBayes model using the GaussianNB class4.", 
            "cell_type": "markdown", 
            "metadata": {}
        }, 
        {
            "source": "### Classi\fcation and Regression Trees\nClassi\fcation and Regression Trees (CART or just decision trees) construct a binary tree from\nthe training data. Split points are chosen greedily by evaluating each attribute and each value\nof each attribute in the training data in order to minimize a cost function (like the Gini index).\nYou can construct a CART model using the DecisionTreeClassifier class5.\n", 
            "cell_type": "markdown", 
            "metadata": {}
        }, 
        {
            "source": "### Support Vector Machines\nSupport Vector Machines (or SVM) seek a line that best separates two classes. Those data\ninstances that are closest to the line that best separates the classes are called support vectors\nand in\nuence where the line is placed. SVM has been extended to support multiple classes.\nOf particular importance is the use of di\u000berent kernel functions via the kernel parameter. A powerful Radial Basis Function is used by default. You can construct an SVM model using the\nSVC class6.", 
            "cell_type": "markdown", 
            "metadata": {}
        }, 
        {
            "source": "## Regression / Linear Algorithms", 
            "cell_type": "markdown", 
            "metadata": {}
        }, 
        {
            "source": "### Ridge Regression\nRidge regression is an extension of linear regression where the loss function is modi\fed to\nminimize the complexity of the model measured as the sum squared value of the coe\u000ecient\nvalues (also called the L2-norm). You can construct a ridge regression model by using the Ridge\nclass2", 
            "cell_type": "markdown", 
            "metadata": {}
        }, 
        {
            "source": "### LASSO Regression\nThe Least Absolute Shrinkage and Selection Operator (or LASSO for short) is a modi\fcation\nof linear regression, like ridge regression, where the loss function is modi\fed to minimize the\ncomplexity of the model measured as the sum absolute value of the coe\u000ecient values (also called\nthe L1-norm). You can construct a LASSO model by using the Lasso class3.", 
            "cell_type": "markdown", 
            "metadata": {}
        }, 
        {
            "source": "### ElasticNet Regression\nElasticNet is a form of regularization regression that combines the properties of both Ridge\nRegression and LASSO regression. It seeks to minimize the complexity of the regression model\n(magnitude and number of regression coe\u000ecients) by penalizing the model using both the\nL2-norm (sum squared coe\u000ecient values) and the L1-norm (sum absolute coe\u000ecient values).\nYou can construct an ElasticNet model using the ElasticNet class4.", 
            "cell_type": "markdown", 
            "metadata": {}
        }, 
        {
            "source": "## Non-Linear Algorithms will be same as Classification e.g. SVM, Regression Tree, KNN", 
            "cell_type": "markdown", 
            "metadata": {}
        }, 
        {
            "source": "# Let's start coding!", 
            "cell_type": "markdown", 
            "metadata": {}
        }, 
        {
            "execution_count": 4, 
            "cell_type": "code", 
            "source": "import pandas as pd\nimport numpy as np\nfrom matplotlib import pyplot\nfrom collections import defaultdict, Counter\nfrom sklearn.model_selection import KFold\nfrom sklearn.model_selection import cross_val_score\nfrom sklearn.linear_model import LogisticRegression\nfrom sklearn.tree import DecisionTreeClassifier\nfrom sklearn.neighbors import KNeighborsClassifier\nfrom sklearn.discriminant_analysis import LinearDiscriminantAnalysis\nfrom sklearn.naive_bayes import GaussianNB\nfrom sklearn.svm import SVC", 
            "metadata": {
                "collapsed": true
            }, 
            "outputs": []
        }, 
        {
            "execution_count": 19, 
            "cell_type": "code", 
            "source": "# The code was removed by DSX for sharing.", 
            "metadata": {}, 
            "outputs": [
                {
                    "data": {
                        "text/plain": "   CUSTOMER_ID  APPROVABLE    COLLEGE RESIDENTIAL  MAX_NUM_OVERDUES_1_YEAR  \\\n0      34274.0         0.0  Bachelors       Other                      0.0   \n1     174240.0         0.0       None        Rent                      0.0   \n2       9434.0         1.0       None        Rent                      0.0   \n3      69251.0         1.0       None         Own                      0.0   \n4      39518.0         1.0  Bachelors        Rent                      0.0   \n\n   MONTHS_SINCE_60DAY_OVER  AVG_OVERDRAFT_BALANCE  AVG_CREDIT_UTILIZATION  \\\n0                      0.0            1979.166812                0.485324   \n1                     13.0            1335.582937                0.227195   \n2                      0.0            1342.754895                0.631966   \n3                      0.0             894.905748                0.548344   \n4                      0.0             923.309535                0.404981   \n\n   DEBT_INCOME_RATIO  MONTHS_CREDIT_ESTABLISH  CREDIT_QUERIES_6MONTHS  \\\n0           0.479821                    106.0                    11.0   \n1           0.478645                     79.0                     5.0   \n2           0.275831                     80.0                     2.0   \n3           0.314404                     94.0                     3.0   \n4           0.452962                     67.0                     3.0   \n\n   NUM_CREDIT_CARDS      LOAN_AMT       APR  \n0               5.0  448180.89050  0.089636  \n1               3.0  314995.97575  0.062999  \n2               4.0  254888.93225  0.050978  \n3               1.0  271183.56000  0.054237  \n4               3.0  271242.51900  0.054249  ", 
                        "text/html": "<div>\n<style scoped>\n    .dataframe tbody tr th:only-of-type {\n        vertical-align: middle;\n    }\n\n    .dataframe tbody tr th {\n        vertical-align: top;\n    }\n\n    .dataframe thead th {\n        text-align: right;\n    }\n</style>\n<table border=\"1\" class=\"dataframe\">\n  <thead>\n    <tr style=\"text-align: right;\">\n      <th></th>\n      <th>CUSTOMER_ID</th>\n      <th>APPROVABLE</th>\n      <th>COLLEGE</th>\n      <th>RESIDENTIAL</th>\n      <th>MAX_NUM_OVERDUES_1_YEAR</th>\n      <th>MONTHS_SINCE_60DAY_OVER</th>\n      <th>AVG_OVERDRAFT_BALANCE</th>\n      <th>AVG_CREDIT_UTILIZATION</th>\n      <th>DEBT_INCOME_RATIO</th>\n      <th>MONTHS_CREDIT_ESTABLISH</th>\n      <th>CREDIT_QUERIES_6MONTHS</th>\n      <th>NUM_CREDIT_CARDS</th>\n      <th>LOAN_AMT</th>\n      <th>APR</th>\n    </tr>\n  </thead>\n  <tbody>\n    <tr>\n      <th>0</th>\n      <td>34274.0</td>\n      <td>0.0</td>\n      <td>Bachelors</td>\n      <td>Other</td>\n      <td>0.0</td>\n      <td>0.0</td>\n      <td>1979.166812</td>\n      <td>0.485324</td>\n      <td>0.479821</td>\n      <td>106.0</td>\n      <td>11.0</td>\n      <td>5.0</td>\n      <td>448180.89050</td>\n      <td>0.089636</td>\n    </tr>\n    <tr>\n      <th>1</th>\n      <td>174240.0</td>\n      <td>0.0</td>\n      <td>None</td>\n      <td>Rent</td>\n      <td>0.0</td>\n      <td>13.0</td>\n      <td>1335.582937</td>\n      <td>0.227195</td>\n      <td>0.478645</td>\n      <td>79.0</td>\n      <td>5.0</td>\n      <td>3.0</td>\n      <td>314995.97575</td>\n      <td>0.062999</td>\n    </tr>\n    <tr>\n      <th>2</th>\n      <td>9434.0</td>\n      <td>1.0</td>\n      <td>None</td>\n      <td>Rent</td>\n      <td>0.0</td>\n      <td>0.0</td>\n      <td>1342.754895</td>\n      <td>0.631966</td>\n      <td>0.275831</td>\n      <td>80.0</td>\n      <td>2.0</td>\n      <td>4.0</td>\n      <td>254888.93225</td>\n      <td>0.050978</td>\n    </tr>\n    <tr>\n      <th>3</th>\n      <td>69251.0</td>\n      <td>1.0</td>\n      <td>None</td>\n      <td>Own</td>\n      <td>0.0</td>\n      <td>0.0</td>\n      <td>894.905748</td>\n      <td>0.548344</td>\n      <td>0.314404</td>\n      <td>94.0</td>\n      <td>3.0</td>\n      <td>1.0</td>\n      <td>271183.56000</td>\n      <td>0.054237</td>\n    </tr>\n    <tr>\n      <th>4</th>\n      <td>39518.0</td>\n      <td>1.0</td>\n      <td>Bachelors</td>\n      <td>Rent</td>\n      <td>0.0</td>\n      <td>0.0</td>\n      <td>923.309535</td>\n      <td>0.404981</td>\n      <td>0.452962</td>\n      <td>67.0</td>\n      <td>3.0</td>\n      <td>3.0</td>\n      <td>271242.51900</td>\n      <td>0.054249</td>\n    </tr>\n  </tbody>\n</table>\n</div>"
                    }, 
                    "execution_count": 19, 
                    "metadata": {}, 
                    "output_type": "execute_result"
                }
            ]
        }, 
        {
            "execution_count": 20, 
            "cell_type": "code", 
            "source": "numerical_columns = list(df1.select_dtypes(include=[np.number]).columns)\ncategorical_columns = list(df1.select_dtypes(include=[object]).columns)\ndate_columns = list(df1.select_dtypes(include=['<M8[ns]']).columns)", 
            "metadata": {}, 
            "outputs": []
        }, 
        {
            "execution_count": 21, 
            "cell_type": "code", 
            "source": "#One Hot Encoder. Transform catogrical variable into numeric one\ncolumns_to_drop = []\n\n# For categorical variables with more than that many values, we only keep the most frequent ones\nLIMIT_DUMMIES = 100\n\n# Only keep the top 100 values\ndef select_dummy_values(train, features):\n    dummy_values = {}\n    for feature in features:\n        values = [\n            value\n            for (value, _) in Counter(train[feature]).most_common(LIMIT_DUMMIES)\n        ]\n        dummy_values[feature] = values\n    return dummy_values\n\nDUMMY_VALUES = select_dummy_values(df1, [x for x in categorical_columns if not x in columns_to_drop])\n\n\ndef dummy_encode_dataframe(df1):\n    for (feature, dummy_values) in DUMMY_VALUES.items():\n        for dummy_value in dummy_values:\n            dummy_name = u'%s_value_%s' % (feature, dummy_value.decode('utf-8'))\n            df1[dummy_name] = (df1[feature] == dummy_value).astype(float)\n        del df1[feature]\n        print 'Dummy-encoded feature %s' % feature\n\ndummy_encode_dataframe(df1)", 
            "metadata": {}, 
            "outputs": [
                {
                    "name": "stdout", 
                    "output_type": "stream", 
                    "text": "Dummy-encoded feature RESIDENTIAL\nDummy-encoded feature COLLEGE\n"
                }
            ]
        }, 
        {
            "execution_count": 22, 
            "cell_type": "code", 
            "source": "#Drop Customer ID\ndf1.drop('CUSTOMER_ID', axis=1, inplace=True)", 
            "metadata": {}, 
            "outputs": []
        }, 
        {
            "execution_count": 41, 
            "cell_type": "code", 
            "source": "df1.info()", 
            "metadata": {}, 
            "outputs": [
                {
                    "name": "stdout", 
                    "output_type": "stream", 
                    "text": "<class 'pandas.core.frame.DataFrame'>\nRangeIndex: 10005 entries, 0 to 10004\nData columns (total 17 columns):\nAPPROVABLE                 10005 non-null float64\nMAX_NUM_OVERDUES_1_YEAR    10005 non-null float64\nMONTHS_SINCE_60DAY_OVER    10005 non-null float64\nAVG_OVERDRAFT_BALANCE      10005 non-null float64\nAVG_CREDIT_UTILIZATION     10005 non-null float64\nDEBT_INCOME_RATIO          10005 non-null float64\nMONTHS_CREDIT_ESTABLISH    10005 non-null float64\nCREDIT_QUERIES_6MONTHS     10005 non-null float64\nNUM_CREDIT_CARDS           10005 non-null float64\nLOAN_AMT                   10005 non-null float64\nAPR                        10005 non-null float64\nRESIDENTIAL_value_Own      10005 non-null float64\nRESIDENTIAL_value_Rent     10005 non-null float64\nRESIDENTIAL_value_Other    10005 non-null float64\nCOLLEGE_value_None         10005 non-null float64\nCOLLEGE_value_Bachelors    10005 non-null float64\nCOLLEGE_value_Advanced     10005 non-null float64\ndtypes: float64(17)\nmemory usage: 1.3 MB\n"
                }
            ]
        }, 
        {
            "execution_count": 47, 
            "cell_type": "code", 
            "source": "#Scale the Value for Model Building\nfrom sklearn.preprocessing import RobustScaler\narray = df1.values    \nrs = RobustScaler(quantile_range=(25, 75)).fit(array)\nS_array = rs.transform(array)\nS_array.shape\nS_array[:]\ndataframe=pd.DataFrame(S_array)\ndataframe.head()", 
            "metadata": {}, 
            "outputs": [
                {
                    "data": {
                        "text/plain": "    0    1     2         3         4         5         6     7         8   \\\n0 -1.0  0.0   0.0  0.492173 -0.061694  0.196863  0.446809  1.50  1.000000   \n1 -1.0  0.0  13.0 -0.135871 -0.585781  0.191754 -0.127660  0.00  0.333333   \n2  0.0  0.0   0.0 -0.128872  0.236035 -0.689911 -0.106383 -0.75  0.666667   \n3  0.0  0.0   0.0 -0.565907  0.066256 -0.522228  0.191489 -0.50 -0.333333   \n4  0.0  0.0   0.0 -0.538189 -0.224817  0.080105 -0.382979 -0.50  0.333333   \n\n         9         10   11   12   13   14   15   16  \n0  0.593728  0.593728  0.0  0.0  1.0 -1.0  1.0  0.0  \n1 -0.481966 -0.481966  0.0  1.0  0.0  0.0  0.0  0.0  \n2 -0.967432 -0.967432  0.0  1.0  0.0  0.0  0.0  0.0  \n3 -0.835825 -0.835825  1.0  0.0  0.0  0.0  0.0  0.0  \n4 -0.835349 -0.835349  0.0  1.0  0.0 -1.0  1.0  0.0  ", 
                        "text/html": "<div>\n<style scoped>\n    .dataframe tbody tr th:only-of-type {\n        vertical-align: middle;\n    }\n\n    .dataframe tbody tr th {\n        vertical-align: top;\n    }\n\n    .dataframe thead th {\n        text-align: right;\n    }\n</style>\n<table border=\"1\" class=\"dataframe\">\n  <thead>\n    <tr style=\"text-align: right;\">\n      <th></th>\n      <th>0</th>\n      <th>1</th>\n      <th>2</th>\n      <th>3</th>\n      <th>4</th>\n      <th>5</th>\n      <th>6</th>\n      <th>7</th>\n      <th>8</th>\n      <th>9</th>\n      <th>10</th>\n      <th>11</th>\n      <th>12</th>\n      <th>13</th>\n      <th>14</th>\n      <th>15</th>\n      <th>16</th>\n    </tr>\n  </thead>\n  <tbody>\n    <tr>\n      <th>0</th>\n      <td>-1.0</td>\n      <td>0.0</td>\n      <td>0.0</td>\n      <td>0.492173</td>\n      <td>-0.061694</td>\n      <td>0.196863</td>\n      <td>0.446809</td>\n      <td>1.50</td>\n      <td>1.000000</td>\n      <td>0.593728</td>\n      <td>0.593728</td>\n      <td>0.0</td>\n      <td>0.0</td>\n      <td>1.0</td>\n      <td>-1.0</td>\n      <td>1.0</td>\n      <td>0.0</td>\n    </tr>\n    <tr>\n      <th>1</th>\n      <td>-1.0</td>\n      <td>0.0</td>\n      <td>13.0</td>\n      <td>-0.135871</td>\n      <td>-0.585781</td>\n      <td>0.191754</td>\n      <td>-0.127660</td>\n      <td>0.00</td>\n      <td>0.333333</td>\n      <td>-0.481966</td>\n      <td>-0.481966</td>\n      <td>0.0</td>\n      <td>1.0</td>\n      <td>0.0</td>\n      <td>0.0</td>\n      <td>0.0</td>\n      <td>0.0</td>\n    </tr>\n    <tr>\n      <th>2</th>\n      <td>0.0</td>\n      <td>0.0</td>\n      <td>0.0</td>\n      <td>-0.128872</td>\n      <td>0.236035</td>\n      <td>-0.689911</td>\n      <td>-0.106383</td>\n      <td>-0.75</td>\n      <td>0.666667</td>\n      <td>-0.967432</td>\n      <td>-0.967432</td>\n      <td>0.0</td>\n      <td>1.0</td>\n      <td>0.0</td>\n      <td>0.0</td>\n      <td>0.0</td>\n      <td>0.0</td>\n    </tr>\n    <tr>\n      <th>3</th>\n      <td>0.0</td>\n      <td>0.0</td>\n      <td>0.0</td>\n      <td>-0.565907</td>\n      <td>0.066256</td>\n      <td>-0.522228</td>\n      <td>0.191489</td>\n      <td>-0.50</td>\n      <td>-0.333333</td>\n      <td>-0.835825</td>\n      <td>-0.835825</td>\n      <td>1.0</td>\n      <td>0.0</td>\n      <td>0.0</td>\n      <td>0.0</td>\n      <td>0.0</td>\n      <td>0.0</td>\n    </tr>\n    <tr>\n      <th>4</th>\n      <td>0.0</td>\n      <td>0.0</td>\n      <td>0.0</td>\n      <td>-0.538189</td>\n      <td>-0.224817</td>\n      <td>0.080105</td>\n      <td>-0.382979</td>\n      <td>-0.50</td>\n      <td>0.333333</td>\n      <td>-0.835349</td>\n      <td>-0.835349</td>\n      <td>0.0</td>\n      <td>1.0</td>\n      <td>0.0</td>\n      <td>-1.0</td>\n      <td>1.0</td>\n      <td>0.0</td>\n    </tr>\n  </tbody>\n</table>\n</div>"
                    }, 
                    "execution_count": 47, 
                    "metadata": {}, 
                    "output_type": "execute_result"
                }
            ]
        }, 
        {
            "execution_count": 29, 
            "cell_type": "code", 
            "source": "y[:]", 
            "metadata": {
                "scrolled": true
            }, 
            "outputs": [
                {
                    "data": {
                        "text/plain": "array([ 0.,  0.,  1., ...,  1.,  1.,  1.])"
                    }, 
                    "execution_count": 29, 
                    "metadata": {}, 
                    "output_type": "execute_result"
                }
            ]
        }, 
        {
            "execution_count": null, 
            "cell_type": "code", 
            "source": "", 
            "metadata": {
                "collapsed": true
            }, 
            "outputs": []
        }, 
        {
            "execution_count": 36, 
            "cell_type": "code", 
            "source": "S_array.info()", 
            "metadata": {}, 
            "outputs": [
                {
                    "evalue": "'numpy.ndarray' object has no attribute 'info'", 
                    "traceback": [
                        "\u001b[0;31m\u001b[0m", 
                        "\u001b[0;31mAttributeError\u001b[0mTraceback (most recent call last)", 
                        "\u001b[0;32m<ipython-input-36-204358c6354b>\u001b[0m in \u001b[0;36m<module>\u001b[0;34m()\u001b[0m\n\u001b[0;32m----> 1\u001b[0;31m \u001b[0mS_array\u001b[0m\u001b[0;34m.\u001b[0m\u001b[0minfo\u001b[0m\u001b[0;34m(\u001b[0m\u001b[0;34m)\u001b[0m\u001b[0;34m\u001b[0m\u001b[0m\n\u001b[0m", 
                        "\u001b[0;31mAttributeError\u001b[0m: 'numpy.ndarray' object has no attribute 'info'"
                    ], 
                    "ename": "AttributeError", 
                    "output_type": "error"
                }
            ]
        }, 
        {
            "execution_count": 37, 
            "cell_type": "code", 
            "source": "y [:]", 
            "metadata": {}, 
            "outputs": [
                {
                    "data": {
                        "text/plain": "array([-1., -1.,  0., ...,  0.,  0.,  0.])"
                    }, 
                    "execution_count": 37, 
                    "metadata": {}, 
                    "output_type": "execute_result"
                }
            ]
        }, 
        {
            "execution_count": 38, 
            "cell_type": "code", 
            "source": "dataframe=pd.DataFrame(S_array)\nprint (dataframe)", 
            "metadata": {}, 
            "outputs": [
                {
                    "name": "stdout", 
                    "output_type": "stream", 
                    "text": "        0    1     2         3         4         5         6     7         8   \\\n0     -1.0  0.0   0.0  0.492173 -0.061694  0.196863  0.446809  1.50  1.000000   \n1     -1.0  0.0  13.0 -0.135871 -0.585781  0.191754 -0.127660  0.00  0.333333   \n2      0.0  0.0   0.0 -0.128872  0.236035 -0.689911 -0.106383 -0.75  0.666667   \n3      0.0  0.0   0.0 -0.565907  0.066256 -0.522228  0.191489 -0.50 -0.333333   \n4      0.0  0.0   0.0 -0.538189 -0.224817  0.080105 -0.382979 -0.50  0.333333   \n5      0.0  0.0   0.0  0.118614 -0.635693  0.319069 -1.468085  1.00  0.000000   \n6      0.0  0.0   0.0 -0.213953  0.560153 -0.629415 -1.085106 -0.75 -0.333333   \n7      0.0  0.0   0.0 -1.098787 -0.633508 -0.270375 -0.446809  0.00  0.666667   \n8      0.0  1.0   0.0 -0.025477 -0.851087 -0.805405 -0.191489  1.75  0.666667   \n9      0.0  0.0   0.0 -0.209369  0.027925 -0.589277 -0.276596  2.00  0.000000   \n10    -1.0  0.0   0.0 -0.311512 -0.455131 -0.727702 -1.212766 -1.25  0.666667   \n11     0.0  0.0   0.0 -0.611103 -1.022484 -0.290651  0.170213  2.00 -0.333333   \n12    -1.0  0.0   0.0 -1.017562  1.523050  0.467980  0.808511 -1.25 -0.666667   \n13     0.0  0.0   0.0  0.054730 -0.318710 -0.771340 -0.085106  0.75  1.333333   \n14    -1.0  0.0   0.0 -0.581879 -0.014742  0.424790 -0.340426 -1.25 -0.666667   \n15     0.0  0.0   0.0  0.523876  0.018465 -0.757753 -0.340426  0.00 -0.333333   \n16     0.0  0.0   0.0 -0.864792 -0.349073  0.842892  0.468085  0.75  1.333333   \n17     0.0  0.0  15.0  1.402293  0.436479  1.289366  0.127660 -0.75  1.000000   \n18     0.0  0.0   0.0 -0.343486 -0.194703 -0.804737 -0.574468  0.00 -0.333333   \n19     0.0  0.0   9.0 -0.345774 -1.007495  0.455955 -0.617021  0.75 -0.333333   \n20    -1.0  0.0  14.0  0.279954  0.020710 -0.033209  1.085106 -1.25 -0.666667   \n21     0.0  1.0   0.0  0.042602  0.186113 -0.460976 -0.829787 -1.00  1.333333   \n22     0.0  0.0   0.0 -0.655592  1.297284  0.161385 -1.063830  1.25  1.000000   \n23     0.0  0.0   0.0  0.309020  0.526602 -0.364275 -0.851064 -1.00  1.000000   \n24     0.0  0.0   0.0  0.219977  0.258031  0.201570 -0.361702 -0.50 -0.333333   \n25     0.0  0.0   0.0  1.736811  0.039415 -1.137770 -0.021277 -0.50 -0.333333   \n26    -1.0  0.0   0.0 -1.266994 -0.302470 -0.441707 -0.297872  0.00  0.000000   \n27     0.0  0.0   0.0  0.146452 -0.015352 -0.034458 -0.680851  0.00 -0.333333   \n28     0.0  0.0   0.0  0.655564  1.097004  1.288260  1.574468  0.25  0.000000   \n29     0.0  0.0   0.0  0.700901 -0.778073  0.741225 -1.021277 -0.75  1.333333   \n...    ...  ...   ...       ...       ...       ...       ...   ...       ...   \n9975   0.0  0.0   6.0 -0.974092 -0.064863 -0.551013 -0.872340  0.25 -0.333333   \n9976   0.0  0.0   0.0 -0.095750 -0.248099 -0.095675 -0.212766 -1.00  2.333333   \n9977   0.0  0.0   0.0 -0.580670 -0.380372  0.892793  1.787234  0.25  0.000000   \n9978  -1.0  4.0   0.0 -0.054298  0.250802 -0.682024 -0.340426 -0.50 -0.333333   \n9979   0.0  0.0  36.0 -0.138414 -0.539435  0.136441 -0.191489  1.00 -0.333333   \n9980  -1.0  0.0  13.0  0.760849 -0.310159  0.276064 -1.276596  0.25  0.333333   \n9981   0.0  0.0  19.0  1.537388 -0.678386 -0.579938 -1.340426 -0.50 -0.333333   \n9982  -1.0  0.0  33.0  0.087991  0.230210  0.252022  0.787234  0.75 -0.666667   \n9983   0.0  0.0   0.0  1.936458  0.181722  1.226919 -0.063830  1.75  0.000000   \n9984   0.0  0.0   0.0  1.067357  1.291345  2.065421 -0.106383  0.75  2.000000   \n9985   0.0  0.0   0.0 -0.443894  0.374443  1.135492 -0.148936 -0.25 -0.333333   \n9986   0.0  0.0   0.0  0.125145 -0.359117  0.301673 -0.148936 -0.75  1.666667   \n9987  -1.0  1.0   0.0  0.127573 -0.548136 -0.065298 -0.702128  0.25  0.333333   \n9988   0.0  0.0   0.0 -0.149402 -0.162624 -0.450793  0.957447 -0.50  0.000000   \n9989  -1.0  0.0   0.0  0.870566  0.113595  0.627955 -0.297872 -0.50  3.666667   \n9990  -1.0  1.0   0.0 -0.666353 -0.821265 -0.897368 -0.574468  0.25 -0.666667   \n9991   0.0  2.0   0.0 -0.642048  1.190344 -0.387783 -0.723404 -0.50  0.000000   \n9992   0.0  0.0  19.0 -0.163392  0.648342  0.129135 -0.595745 -0.25 -0.333333   \n9993  -1.0  0.0   0.0 -0.036874 -0.266021 -0.837918  0.234043  0.00 -0.666667   \n9994   0.0  0.0   0.0 -0.593316  1.325179 -1.035469  0.978723  0.75  0.000000   \n9995   0.0  0.0   0.0 -0.102637  0.172592  1.031806  0.340426  0.00  1.000000   \n9996   0.0  0.0   0.0 -0.036789  2.676727  0.817971  1.021277 -0.75  1.333333   \n9997  -1.0  8.0   0.0  0.094488 -0.797613  0.047754 -0.851064  0.75  1.000000   \n9998  -1.0  0.0   0.0 -0.193568  1.226373  0.519625 -1.042553  0.75  4.333333   \n9999  -1.0  2.0  20.0 -0.861491  0.172619  1.497792  0.829787  0.75 -0.666667   \n10000  0.0  0.0   0.0 -0.810367 -0.270522 -0.299552 -0.340426  0.00  0.333333   \n10001  0.0  0.0  29.0  0.653700  0.545622  0.780507  0.659574  0.00  0.000000   \n10002  0.0  0.0   0.0  0.069948 -0.544182  0.869789  0.276596 -0.75  2.000000   \n10003  0.0  0.0   0.0  1.391849  0.167536 -0.144341  0.276596  0.00  0.000000   \n10004  0.0  0.0   0.0  0.691820  0.230597  0.601577  0.489362  1.50  1.000000   \n\n             9         10   11   12   13   14   15   16  \n0      0.593728  0.593728  0.0  0.0  1.0 -1.0  1.0  0.0  \n1     -0.481966 -0.481966  0.0  1.0  0.0  0.0  0.0  0.0  \n2     -0.967432 -0.967432  0.0  1.0  0.0  0.0  0.0  0.0  \n3     -0.835825 -0.835825  1.0  0.0  0.0  0.0  0.0  0.0  \n4     -0.835349 -0.835349  0.0  1.0  0.0 -1.0  1.0  0.0  \n5      0.121698  0.121698  1.0  0.0  0.0 -1.0  1.0  0.0  \n6     -0.997924 -0.997924  0.0  0.0  1.0  0.0  0.0  0.0  \n7     -0.978510 -0.978510  1.0  0.0  0.0 -1.0  0.0  1.0  \n8     -0.294820 -0.294820  0.0  0.0  1.0  0.0  0.0  0.0  \n9      0.609188  0.609188  0.0  1.0  0.0  0.0  0.0  0.0  \n10    -0.238339 -0.238339  0.0  0.0  1.0 -1.0  1.0  0.0  \n11    -0.851660 -0.851660  1.0  0.0  0.0 -1.0  1.0  0.0  \n12     0.205148  0.205148  1.0  0.0  0.0  0.0  0.0  0.0  \n13    -0.205697 -0.205697  1.0  0.0  0.0 -1.0  1.0  0.0  \n14    -0.763437 -0.763437  0.0  1.0  0.0  0.0  0.0  0.0  \n15    -0.836399 -0.836399  0.0  0.0  1.0  0.0  0.0  0.0  \n16     0.239120  0.239120  1.0  0.0  0.0 -1.0  0.0  1.0  \n17     0.242081  0.242081  0.0  1.0  0.0 -1.0  0.0  1.0  \n18    -0.989084 -0.989084  0.0  0.0  1.0 -1.0  1.0  0.0  \n19    -0.850655 -0.850655  0.0  1.0  0.0  0.0  0.0  0.0  \n20    -0.159717 -0.159717  1.0  0.0  0.0  0.0  0.0  0.0  \n21    -0.149866 -0.149866  0.0  1.0  0.0 -1.0  1.0  0.0  \n22     0.344803  0.344803  0.0  0.0  1.0  0.0  0.0  0.0  \n23    -0.752482 -0.752482  0.0  1.0  0.0  0.0  0.0  0.0  \n24    -0.181791 -0.181791  0.0  0.0  1.0 -1.0  1.0  0.0  \n25    -0.113146 -0.113146  1.0  0.0  0.0  0.0  0.0  0.0  \n26    -0.650589 -0.650589  0.0  1.0  0.0 -1.0  1.0  0.0  \n27    -0.542415 -0.542415  1.0  0.0  0.0  0.0  0.0  0.0  \n28     0.739641  0.739641  1.0  0.0  0.0  0.0  0.0  0.0  \n29     0.114452  0.114452  0.0  0.0  1.0  0.0  0.0  0.0  \n...         ...       ...  ...  ...  ...  ...  ...  ...  \n9975  -0.532880 -0.532880  0.0  1.0  0.0  0.0  0.0  0.0  \n9976  -0.072012 -0.072012  0.0  1.0  0.0  0.0  0.0  0.0  \n9977   0.810673  0.810673  0.0  1.0  0.0  0.0  0.0  0.0  \n9978  -1.006671 -1.006671  0.0  1.0  0.0 -1.0  0.0  1.0  \n9979  -0.028863 -0.028863  1.0  0.0  0.0 -1.0  1.0  0.0  \n9980  -0.800074 -0.800074  0.0  1.0  0.0 -1.0  0.0  1.0  \n9981  -0.733955 -0.733955  0.0  0.0  1.0  0.0  0.0  0.0  \n9982   0.182003  0.182003  1.0  0.0  0.0 -1.0  0.0  1.0  \n9983   0.553972  0.553972  0.0  0.0  1.0  0.0  0.0  0.0  \n9984   1.010028  1.010028  0.0  0.0  1.0 -1.0  1.0  0.0  \n9985  -0.326969 -0.326969  1.0  0.0  0.0 -1.0  0.0  1.0  \n9986   0.702999  0.702999  0.0  0.0  1.0 -1.0  1.0  0.0  \n9987  -0.687078 -0.687078  0.0  0.0  1.0  0.0  0.0  0.0  \n9988   0.052082  0.052082  1.0  0.0  0.0 -1.0  1.0  0.0  \n9989  -0.198146 -0.198146  0.0  0.0  1.0  0.0  0.0  0.0  \n9990  -0.711860 -0.711860  0.0  0.0  1.0  0.0  0.0  0.0  \n9991   0.086029  0.086029  0.0  1.0  0.0  0.0  0.0  0.0  \n9992  -0.063321 -0.063321  0.0  0.0  1.0  0.0  0.0  0.0  \n9993  -0.743157 -0.743157  1.0  0.0  0.0 -1.0  1.0  0.0  \n9994   0.812190  0.812190  0.0  1.0  0.0 -1.0  1.0  0.0  \n9995   0.546955  0.546955  0.0  1.0  0.0 -1.0  1.0  0.0  \n9996   0.817335  0.817335  0.0  1.0  0.0  0.0  0.0  0.0  \n9997   0.218711  0.218711  0.0  1.0  0.0 -1.0  1.0  0.0  \n9998   0.775368  0.775368  0.0  1.0  0.0 -1.0  1.0  0.0  \n9999   0.945228  0.945228  1.0  0.0  0.0 -1.0  0.0  1.0  \n10000 -0.920674 -0.920674  0.0  1.0  0.0  0.0  0.0  0.0  \n10001  0.588684  0.588684  0.0  1.0  0.0  0.0  0.0  0.0  \n10002  0.838562  0.838562  0.0  0.0  1.0  0.0  0.0  0.0  \n10003  0.274096  0.274096  0.0  1.0  0.0  0.0  0.0  0.0  \n10004 -0.453527 -0.453527  0.0  1.0  0.0  0.0  0.0  0.0  \n\n[10005 rows x 17 columns]\n"
                }
            ]
        }, 
        {
            "execution_count": 43, 
            "cell_type": "code", 
            "source": "#Define independent & dependent variable\nx = S_array[:,1:16]\ny = S_array[:,0]", 
            "metadata": {
                "collapsed": true
            }, 
            "outputs": []
        }, 
        {
            "source": "### Comparing 6 Models \nRunning the example provides a list of each algorithm short name, the mean accuracy and\nthe standard deviation accuracy.\nThe example also provides a box and whisker plot showing the spread of the accuracy scores\nacross each cross-validation fold for each algorithm.", 
            "cell_type": "markdown", 
            "metadata": {}
        }, 
        {
            "execution_count": 44, 
            "cell_type": "code", 
            "source": "# prepare models\nmodels = []\nmodels.append(('LR', LogisticRegression()))\nmodels.append(('LDA', LinearDiscriminantAnalysis()))\nmodels.append(('KNN', KNeighborsClassifier()))\nmodels.append(('CART', DecisionTreeClassifier()))\nmodels.append(('NB', GaussianNB()))\nmodels.append(('SVM', SVC()))\n# evaluate each model in turn\nresults = []\nnames = []\nscoring = 'accuracy'\nfor name, model in models:\n kfold = KFold(n_splits=10, random_state=7)\n cv_results = cross_val_score(model, x, y, cv=kfold, scoring=scoring)\n results.append(cv_results)\n names.append(name)\n msg = \"%s: %f (%f)\" % (name, cv_results.mean(), cv_results.std())\n print(msg)\n# boxplot algorithm comparison\nfig = pyplot.figure()\nfig.suptitle('Algorithm Comparison')\nax = fig.add_subplot(111)\npyplot.boxplot(results)\nax.set_xticklabels(names)\npyplot.show()", 
            "metadata": {
                "scrolled": false
            }, 
            "outputs": [
                {
                    "name": "stdout", 
                    "output_type": "stream", 
                    "text": "LR: 0.705246 (0.012724)\nLDA: 0.705746 (0.012613)\nKNN: 0.781607 (0.010065)\nCART: 0.922441 (0.009794)\nNB: 0.710943 (0.012664)\nSVM: 0.830684 (0.008038)\n"
                }, 
                {
                    "data": {
                        "text/plain": "<matplotlib.figure.Figure at 0x7f3a20152f50>", 
                        "image/png": "[encoded data removed]"
                    }, 
                    "metadata": {}, 
                    "output_type": "display_data"
                }
            ]
        }, 
        {
            "source": "## Pipeline & Workflow Automation\nAn easy trap to fall into in applied machine learning is leaking data from your training dataset\nto your test dataset. To avoid this trap you need a robust test harness with strong separation of training and testing. This includes data preparation. Data preparation is one easy way to leak\nknowledge of the whole training dataset to the algorithm. For example, preparing your data\nusing normalization or standardization on the entire training dataset before learning would not\nbe a valid test because the training dataset would have been in\nuenced by the scale of the data\nin the test set.\nPipelines help you prevent data leakage in your test harness by ensuring that data preparation\nlike standardization is constrained to each fold of your cross-validation procedure. The example\nbelow demonstrates this important data preparation and model evaluation work\now on the\nPima Indians onset of diabetes dataset. The pipeline is de\fned with two steps:\n\n**1. Standardize the data.**\n\n**2. Learn a Linear Discriminant Analysis model.**\n\nThe pipeline is then evaluated using 10-fold cross-validation.", 
            "cell_type": "markdown", 
            "metadata": {}
        }, 
        {
            "execution_count": null, 
            "cell_type": "code", 
            "source": "", 
            "metadata": {
                "collapsed": true
            }, 
            "outputs": []
        }, 
        {
            "source": "### Basic\nNotice how we create a Python list of steps that are provided to the Pipeline for process\nthe data. Also notice how the Pipeline itself is treated like an estimator and is evaluated in its\nentirety by the k-fold cross-validation procedure. Running the example provides a summary of\naccuracy of the setup on the dataset.", 
            "cell_type": "markdown", 
            "metadata": {}
        }, 
        {
            "source": "### Pipeline\nNotice how we create a Python list of steps that are provided to the Pipeline for process\nthe data. Also notice how the Pipeline itself is treated like an estimator and is evaluated in its\nentirety by the k-fold cross-validation procedure. Running the example provides a summary of\naccuracy of the setup on the dataset.", 
            "cell_type": "markdown", 
            "metadata": {}
        }, 
        {
            "execution_count": null, 
            "cell_type": "code", 
            "source": "", 
            "metadata": {
                "collapsed": true
            }, 
            "outputs": []
        }, 
        {
            "execution_count": 45, 
            "cell_type": "code", 
            "source": "from sklearn.model_selection import KFold\nfrom sklearn.model_selection import cross_val_score\nfrom sklearn.preprocessing import StandardScaler\nfrom sklearn.pipeline import Pipeline\nfrom sklearn.discriminant_analysis import LinearDiscriminantAnalysis\n\nestimators = []\nestimators.append(('standardize', StandardScaler()))\nestimators.append(('lda', LinearDiscriminantAnalysis()))\nmodel = Pipeline(estimators)\n# evaluate pipeline\nkfold = KFold(n_splits=10, random_state=7)\nresults = cross_val_score(model, x, y, cv=kfold)\nprint(results.mean())", 
            "metadata": {}, 
            "outputs": [
                {
                    "name": "stdout", 
                    "output_type": "stream", 
                    "text": "0.705745554446\n"
                }
            ]
        }, 
        {
            "source": "### Feature Extraction and Modeling Pipeline\nFeature extraction is another procedure that is susceptible to data leakage. Like data preparation,\nfeature extraction procedures must be restricted to the data in your training dataset. The\npipeline provides a handy tool called the FeatureUnion which allows the results of multiple\nfeature selection and extraction procedures to be combined into a larger dataset on which a\nmodel can be trained. Importantly, all the feature extraction and the feature union occurs\nwithin each fold of the cross-validation procedure. The example below demonstrates the pipeline\nde\fned with four steps:\n\n** 1. Feature Extraction with Principal Component Analysis (3 features). **\n\n** 2. Feature Extraction with Statistical Selection (6 features). **\n\n** 3. Feature Union. **\n\n** 4. Learn a Logistic Regression Model. **\n\n\nThe pipeline is then evaluated using 10-fold cross-validation.", 
            "cell_type": "markdown", 
            "metadata": {}
        }, 
        {
            "execution_count": 46, 
            "cell_type": "code", 
            "source": "from sklearn.model_selection import KFold\nfrom sklearn.model_selection import cross_val_score\nfrom sklearn.pipeline import Pipeline\nfrom sklearn.pipeline import FeatureUnion\nfrom sklearn.linear_model import LogisticRegression\nfrom sklearn.decomposition import PCA\nfrom sklearn.feature_selection import SelectKBest\n\n# create feature union\nfeatures = []\nfeatures.append(('pca', PCA(n_components=3)))\nfeatures.append(('select_best', SelectKBest(k=6)))\nfeature_union = FeatureUnion(features)\n# create pipeline\nestimators = []\nestimators.append(('feature_union', feature_union))\nestimators.append(('logistic', LogisticRegression()))\nmodel = Pipeline(estimators)\n# evaluate pipeline\nkfold = KFold(n_splits=10, random_state=7)\nresults = cross_val_score(model, x, y, cv=kfold)\nprint(results.mean())", 
            "metadata": {}, 
            "outputs": [
                {
                    "name": "stdout", 
                    "output_type": "stream", 
                    "text": "0.707244955045\n"
                }
            ]
        }, 
        {
            "source": "# Improve Performance with Ensembles\nEnsembles can give you a boost in accuracy on your dataset. In this chapter you will discover\nhow you can create some of the most powerful types of ensembles in Python using scikit-learn.\nThis lesson will step you through Boosting, Bagging and Majority Voting and show you how you\ncan continue to ratchet up the accuracy of the models on your own datasets. After completing\nthis lesson you will know:\n1. How to use bagging ensemble methods such as bagged decision trees, random forest and\nextra trees.\n2. How to use boosting ensemble methods such as AdaBoost and stochastic gradient boosting.\n3. How to use voting ensemble methods to combine the predictions from multiple algorithms.", 
            "cell_type": "markdown", 
            "metadata": {}
        }, 
        {
            "source": "## Combine Models Into Ensemble Predictions\nThe three most popular methods for combining the predictions from di\u000berent models are:\n\n- **Bagging**. Building multiple models (typically of the same type) from di\u000berent subsamples of the training dataset.\n\n- **Boosting**. Building multiple models (typically of the same type) each of which learns to\n\fx the prediction errors of a prior model in the sequence of models.\n\n- **Voting**. Building multiple models (typically of di\u000bering types) and simple statistics (like calculating the mean) are used to combine predictions.", 
            "cell_type": "markdown", 
            "metadata": {}
        }, 
        {
            "source": "### Bagging Algorithms\nBootstrap Aggregation (or Bagging) involves taking multiple samples from your training dataset\n(with replacement) and training a model for each sample. The \fnal output prediction is averaged\nacross the predictions of all of the sub-models. The three bagging models covered in this section\nare as follows:\n1. Bagged Decision Trees.\n\nBagging performs best with algorithms that have high variance. A popular example are\ndecision trees, often constructed without pruning.\n2. Random Forest.\n\nRandom Forests is an extension of bagged decision trees. Samples of the training dataset are\ntaken with replacement, but the trees are constructed in a way that reduces the correlation\nbetween individual classi\fers. Speci\fcally, rather than greedily choosing the best split point in\nthe construction of each tree, only a random subset of features are considered for each split.\n3. Extra Trees.\n\nExtra Trees are another modi\fcation of bagging where random trees are constructed from\nsamples of the training dataset. ", 
            "cell_type": "markdown", 
            "metadata": {}
        }, 
        {
            "execution_count": 48, 
            "cell_type": "code", 
            "source": "#BaggingTree\nfrom sklearn.ensemble import BaggingClassifier\nfrom sklearn.tree import DecisionTreeClassifier\nseed = 7\nkfold = KFold(n_splits=10, random_state=seed)\ncart = DecisionTreeClassifier()\nnum_trees = 100\nmodel = BaggingClassifier(base_estimator=cart, n_estimators=num_trees, random_state=seed)\nresults = cross_val_score(model, x, y, cv=kfold)\nprint(results.mean())", 
            "metadata": {}, 
            "outputs": [
                {
                    "name": "stdout", 
                    "output_type": "stream", 
                    "text": "0.950326473526\n"
                }
            ]
        }, 
        {
            "execution_count": 49, 
            "cell_type": "code", 
            "source": "#RandomForest\nfrom sklearn.ensemble import RandomForestClassifier\nnum_trees = 100\nmax_features = 3\nkfold = KFold(n_splits=10, random_state=7)\nmodel = RandomForestClassifier(n_estimators=num_trees, max_features=max_features)\nresults = cross_val_score(model, x, y, cv=kfold)\nprint(results.mean())", 
            "metadata": {}, 
            "outputs": [
                {
                    "name": "stdout", 
                    "output_type": "stream", 
                    "text": "0.945828871129\n"
                }
            ]
        }, 
        {
            "execution_count": 53, 
            "cell_type": "code", 
            "source": "#ExtraTree\nfrom sklearn.ensemble import ExtraTreesClassifier\nnum_trees = 100\nmax_features = 7\nkfold = KFold(n_splits=10, random_state=7)\nmodel = ExtraTreesClassifier(n_estimators=num_trees, max_features=max_features)\nresults = cross_val_score(model, x, y, cv=kfold)\nprint(results.mean())", 
            "metadata": {}, 
            "outputs": [
                {
                    "name": "stdout", 
                    "output_type": "stream", 
                    "text": "0.960420979021\n"
                }
            ]
        }, 
        {
            "source": "## Boosting Algorithms\nBoosting ensemble algorithms creates a sequence of models that attempt to correct the mistakes\nof the models before them in the sequence. Once created, the models make predictions which\nmay be weighted by their demonstrated accuracy and the results are combined to create a \fnal\noutput prediction. The two most common boosting ensemble machine learning algorithms are:\n\n\u0088$$ AdaBoost.$$\n\u0088$$ Stochastic Gradient Boosting. $$", 
            "cell_type": "markdown", 
            "metadata": {}
        }, 
        {
            "source": "## AdaBoost\nAdaBoost was perhaps the \frst successful boosting ensemble algorithm. It generally works by\nweighting instances in the dataset by how easy or di\u000ecult they are to classify, allowing the\nalgorithm to pay less attention to them in the construction of subsequent models.", 
            "cell_type": "markdown", 
            "metadata": {}
        }, 
        {
            "execution_count": 55, 
            "cell_type": "code", 
            "source": "from sklearn.ensemble import AdaBoostClassifier\nnum_trees = 30\nseed=7\nkfold = KFold(n_splits=10, random_state=seed)\nmodel = AdaBoostClassifier(n_estimators=num_trees, random_state=seed)\nresults = cross_val_score(model, x, y, cv=kfold)\nprint(results.mean())", 
            "metadata": {}, 
            "outputs": [
                {
                    "name": "stdout", 
                    "output_type": "stream", 
                    "text": "0.864467232767\n"
                }
            ]
        }, 
        {
            "source": "## Stochastic Gradient Boosting\nStochastic Gradient Boosting (also called Gradient Boosting Machines) are one of the most\nsophisticated ensemble techniques. It is also a technique that is proving to be perhaps one of\nthe best techniques available for improving performance via ensembles.", 
            "cell_type": "markdown", 
            "metadata": {}
        }, 
        {
            "execution_count": 56, 
            "cell_type": "code", 
            "source": "from sklearn.ensemble import GradientBoostingClassifier\nseed = 7\nnum_trees = 100\nkfold = KFold(n_splits=10, random_state=seed)\nmodel = GradientBoostingClassifier(n_estimators=num_trees, random_state=seed)\nresults = cross_val_score(model, x, y, cv=kfold)\nprint(results.mean())", 
            "metadata": {}, 
            "outputs": [
                {
                    "name": "stdout", 
                    "output_type": "stream", 
                    "text": "0.907346853147\n"
                }
            ]
        }, 
        {
            "source": "# Voting Ensemble\nVoting is one of the simplest ways of combining the predictions from multiple machine learning\nalgorithms. It works by \frst creating two or more standalone models from your training dataset.\nA Voting Classi\fer can then be used to wrap your models and average the predictions of the\nsub-models when asked to make predictions for new data. The predictions of the sub-models can\nbe weighted, but specifying the weights for classi\fers manually or even heuristically is di\u000ecult.\nMore advanced methods can learn how to best weight the predictions from sub-models, but this\nis called stacking (stacked aggregation) and is currently not provided in scikit-learn. ", 
            "cell_type": "markdown", 
            "metadata": {}
        }, 
        {
            "execution_count": 58, 
            "cell_type": "code", 
            "source": "from sklearn.ensemble import VotingClassifier\nkfold = KFold(n_splits=10, random_state=7)\n# create the sub models\nestimators = []\nmodel1 = LogisticRegression()\nestimators.append(('logistic', model1))\nmodel2 = DecisionTreeClassifier()\nestimators.append(('cart', model2))\nmodel3 = SVC()\nestimators.append(('svm', model3))\n# create the ensemble model\nensemble = VotingClassifier(estimators)\nresults = cross_val_score(ensemble, x, y, cv=kfold)\nprint(results.mean())\n# boxplot algorithm comparison\nfig = pyplot.figure()\nfig.suptitle('Algorithm Comparison')\nax = fig.add_subplot(111)\npyplot.boxplot(results)\nax.set_xticklabels('Voting')\npyplot.show()", 
            "metadata": {}, 
            "outputs": [
                {
                    "name": "stdout", 
                    "output_type": "stream", 
                    "text": "0.833283116883\n"
                }, 
                {
                    "data": {
                        "text/plain": "<matplotlib.figure.Figure at 0x7f3a0056bfd0>", 
                        "image/png": "[encoded data removed]"
                    }, 
                    "metadata": {}, 
                    "output_type": "display_data"
                }
            ]
        }, 
        {
            "source": "# Improve Performance with Algorithm Tuning\nAlgorithm tuning is a \fnal step in the process of applied machine learning before \fnalizing your\nmodel. It is sometimes called hyperparameter optimization where the algorithm parameters\nare referred to as hyperparameters, whereas the coe\u000ecients found by the machine learning\nalgorithm itself are referred to as parameters. Optimization suggests the search-nature of the\nproblem. Phrased as a search problem, you can use di\u000berent search strategies to \fnd a good and\nrobust parameter or set of parameters for an algorithm on a given problem. Python scikit-learn\nprovides two simple methods for algorithm parameter tuning:\n\u0088 \n\n**Grid Search Parameter Tuning.**\n\n\u0088**Random Search Parameter Tuning.**", 
            "cell_type": "markdown", 
            "metadata": {}
        }, 
        {
            "source": "##  Grid Search Parameter Tuning\nGrid search is an approach to parameter tuning that will methodically build and evaluate a\nmodel for each combination of algorithm parameters speci\fed in a grid. You can perform a grid", 
            "cell_type": "markdown", 
            "metadata": {}
        }, 
        {
            "execution_count": 63, 
            "cell_type": "code", 
            "source": "from sklearn.linear_model import Ridge\nfrom sklearn.model_selection import GridSearchCV\nalphas = np.array([1,0.1,0.01,0.001,0.0001,0])\nparam_grid = dict(alpha=alphas)\nmodel = Ridge()\ngrid = GridSearchCV(estimator=model, param_grid=param_grid)\ngrid.fit(x, y)\nprint(grid.best_score_)\nprint(grid.best_estimator_.alpha)\n#Running the example lists out the optimal score achieved and the set of parameters in the\n#grid that achieved that score. In this case the alpha value of 1.0.", 
            "metadata": {}, 
            "outputs": [
                {
                    "name": "stdout", 
                    "output_type": "stream", 
                    "text": "0.0675642367707\n1.0\n"
                }
            ]
        }, 
        {
            "source": "## Random Search Parameter Tuning\nRandom search is an approach to parameter tuning that will sample algorithm parameters from\na random distribution (i.e. uniform) for a \fxed number of iterations. A model is constructed\nand evaluated for each combination of parameters chosen. The example below evaluates\ndi\u000berent random alpha values between 0 and 1 for the Ridge Regression algorithm on the\nstandard diabetes dataset. A total of 100 iterations are performed with uniformly random alpha\nvalues selected in the range between 0 and 1 (the range that alpha values can take).", 
            "cell_type": "markdown", 
            "metadata": {}
        }, 
        {
            "execution_count": 65, 
            "cell_type": "code", 
            "source": "from scipy.stats import uniform\nfrom sklearn.linear_model import Ridge\nfrom sklearn.model_selection import RandomizedSearchCV\nparam_grid = {'alpha': uniform()}\nmodel = Ridge()\nrsearch = RandomizedSearchCV(estimator=model, param_distributions=param_grid, n_iter=100,\nrandom_state=7)\nrsearch.fit(x, y)\nprint(rsearch.best_score_)\nprint(rsearch.best_estimator_.alpha)\n#Running the example produces results much like those in the grid search example above. An\n#optimal alpha value near 1.0 is discovered.", 
            "metadata": {}, 
            "outputs": [
                {
                    "name": "stdout", 
                    "output_type": "stream", 
                    "text": "0.0675642005572\n0.977989511997\n"
                }
            ]
        }, 
        {
            "source": "# Final Step: Save & Load Models\nFinding an accurate machine learning model is not the end of the project. In this chapter you\nwill discover how to save and load your machine learning model in Python using scikit-learn.\nThis allows you to save your model to \fle and load it later in order to make predictions. After\ncompleting this lesson you will know:\n1. The importance of serializing models for reuse.\n2. How to use pickle to serialize and deserialize machine learning models.\n3. How to use Joblib to serialize and deserialize machine learning models.", 
            "cell_type": "markdown", 
            "metadata": {}
        }, 
        {
            "source": "## Pickle\nPickle is the standard way of serializing objects in Python. You can use the pickle1 operation\nto serialize your machine learning algorithms and save the serialized format to a \fle. Later you\ncan load this \fle to deserialize your model and use it to make new predictions.", 
            "cell_type": "markdown", 
            "metadata": {}
        }, 
        {
            "execution_count": 69, 
            "cell_type": "code", 
            "source": "from sklearn.model_selection import train_test_split\nfrom sklearn.linear_model import LogisticRegression\nfrom pickle import dump\nfrom pickle import load\n", 
            "metadata": {
                "collapsed": true
            }, 
            "outputs": []
        }, 
        {
            "execution_count": 71, 
            "cell_type": "code", 
            "source": "x_train, x_test, y_train, y_test = train_test_split(x, y, test_size=0.33, random_state=7)\n# Fit the model on 33%\nmodel = LogisticRegression()\nmodel.fit(x_train, y_train)\n# save the model to disk\nfilename = 'finalized_model.sav'\ndump(model, open(filename, 'wb'))\n# some time later...\n# load the model from disk\nloaded_model = load(open(filename, 'rb'))\nresult = loaded_model.score(x_test, y_test)\nprint(result)\n#Running the example saves the model to finalized model.sav in your local working\n#directory. Load the saved model and evaluating it provides an estimate of accuracy of the model\n#on unseen data.", 
            "metadata": {}, 
            "outputs": [
                {
                    "name": "stdout", 
                    "output_type": "stream", 
                    "text": "0.711689884918\n"
                }
            ]
        }, 
        {
            "source": "## Finalize Your Model with Joblib\nThe Joblib2 library is part of the SciPy ecosystem and provides utilities for pipelining Python\njobs. It provides utilities for saving and loading Python objects that make use of NumPy data\nstructures, e\u000eciently3. This can be useful for some machine learning algorithms that require a\nlot of parameters or store the entire dataset (e.g. k-Nearest Neighbors).", 
            "cell_type": "markdown", 
            "metadata": {}
        }, 
        {
            "execution_count": 72, 
            "cell_type": "code", 
            "source": "from sklearn.externals.joblib import dump\nfrom sklearn.externals.joblib import load\nx_train, x_test, y_train, y_test = train_test_split(x, y, test_size=0.33, random_state=7)\n# Fit the model on 33%\nmodel = LogisticRegression()\nmodel.fit(x_train, y_train)\n# save the model to disk\nfilename = 'finalized_model.sav'\ndump(model, open(filename, 'wb'))\n# some time later...\n# load the model from disk\nloaded_model = load(open(filename, 'rb'))\nresult = loaded_model.score(x_test, y_test)\nprint(result)\n#Running the example saves the model to finalized model.sav in your local working\n#directory. Load the saved model and evaluating it provides an estimate of accuracy of the model\n#on unseen data.", 
            "metadata": {}, 
            "outputs": [
                {
                    "name": "stdout", 
                    "output_type": "stream", 
                    "text": "0.711689884918\n"
                }
            ]
        }, 
        {
            "source": "## Tips for Finalizing Your Model\nThis section lists some important considerations when \fnalizing your machine learning models.\n\n** - Python Version. **\n\nTake note of the Python version. You almost certainly require the\nsame major (and maybe minor) version of Python used to serialize the model when you\nlater load it and deserialize it.\n\n** - Library Versions. **\n\nThe version of all major libraries used in your machine learning\nproject almost certainly need to be the same when deserializing a saved model. This is\nnot limited to the version of NumPy and the version of scikit-learn.\n\n** - Manual Serialization. **\n\nYou might like to manually output the parameters of your\nlearned model so that you can use them directly in scikit-learn or another platform in\nthe future. Often the techniques used internally by machine learning algorithms to make\npredictions are a lot simpler than those used to learn the parameters and can be easy to\nimplement in custom code that you have control over.\n\nTake note of the version so that you can re-create the environment if for some reason you\ncannot reload your model on another machine or another platform at a later time.", 
            "cell_type": "markdown", 
            "metadata": {}
        }
    ], 
    "metadata": {
        "language_info": {
            "version": "2.7.11", 
            "file_extension": ".py", 
            "codemirror_mode": {
                "version": 2, 
                "name": "ipython"
            }, 
            "nbconvert_exporter": "python", 
            "pygments_lexer": "ipython2", 
            "mimetype": "text/x-python", 
            "name": "python"
        }, 
        "kernelspec": {
            "language": "python", 
            "display_name": "Python 2 with Spark 2.1", 
            "name": "python2-spark21"
        }
    }, 
    "nbformat_minor": 1
}
