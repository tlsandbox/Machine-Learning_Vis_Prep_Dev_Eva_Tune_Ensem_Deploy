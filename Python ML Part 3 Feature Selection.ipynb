{
    "nbformat": 4, 
    "nbformat_minor": 1, 
    "metadata": {
        "language_info": {
            "nbconvert_exporter": "python", 
            "version": "2.7.11", 
            "file_extension": ".py", 
            "name": "python", 
            "pygments_lexer": "ipython2", 
            "mimetype": "text/x-python", 
            "codemirror_mode": {
                "name": "ipython", 
                "version": 2
            }
        }, 
        "kernelspec": {
            "language": "python", 
            "name": "python2-spark21", 
            "display_name": "Python 2 with Spark 2.1"
        }
    }, 
    "cells": [
        {
            "source": "# Python Crash Course Part 3 Feature Selection & Split\n### This is meant for internal usage, not for commercial purpose\n### Timothy CL Lam 2017 DEC", 
            "metadata": {}, 
            "cell_type": "markdown"
        }, 
        {
            "execution_count": 77, 
            "source": "import pandas as pd\nimport numpy as np\nfrom sklearn.feature_selection import SelectKBest\nfrom sklearn.feature_selection import chi2", 
            "outputs": [], 
            "metadata": {
                "collapsed": true
            }, 
            "cell_type": "code"
        }, 
        {
            "execution_count": 1, 
            "source": "# The code was removed by DSX for sharing.", 
            "outputs": [
                {
                    "execution_count": 1, 
                    "data": {
                        "text/plain": "  CHURN Gender Status  Children  Est Income Car Owner        Age  \\\n0     T      F      S       1.0    38000.00         N  24.393333   \n1     F      M      M       2.0    29616.00         N  49.426667   \n2     F      M      M       0.0    19732.80         N  50.673333   \n3     F      M      S       2.0       96.33         N  56.473333   \n4     F      F      M       2.0    52004.80         N  25.140000   \n\n   LongDistance  International   Local  Dropped Paymethod LocalBilltype  \\\n0         23.56            0.0  206.08      0.0        CC        Budget   \n1         29.78            0.0   45.50      0.0        CH     FreeLocal   \n2         24.81            0.0   22.44      0.0        CC     FreeLocal   \n3         26.13            0.0   32.88      1.0        CC        Budget   \n4          5.03            0.0   23.11      0.0        CH        Budget   \n\n  LongDistanceBilltype   Usage  RatePlan  \n0       Intnl_discount  229.64       3.0  \n1             Standard   75.29       2.0  \n2             Standard   47.25       3.0  \n3             Standard   59.01       1.0  \n4       Intnl_discount   28.14       1.0  ", 
                        "text/html": "<div>\n<style scoped>\n    .dataframe tbody tr th:only-of-type {\n        vertical-align: middle;\n    }\n\n    .dataframe tbody tr th {\n        vertical-align: top;\n    }\n\n    .dataframe thead th {\n        text-align: right;\n    }\n</style>\n<table border=\"1\" class=\"dataframe\">\n  <thead>\n    <tr style=\"text-align: right;\">\n      <th></th>\n      <th>CHURN</th>\n      <th>Gender</th>\n      <th>Status</th>\n      <th>Children</th>\n      <th>Est Income</th>\n      <th>Car Owner</th>\n      <th>Age</th>\n      <th>LongDistance</th>\n      <th>International</th>\n      <th>Local</th>\n      <th>Dropped</th>\n      <th>Paymethod</th>\n      <th>LocalBilltype</th>\n      <th>LongDistanceBilltype</th>\n      <th>Usage</th>\n      <th>RatePlan</th>\n    </tr>\n  </thead>\n  <tbody>\n    <tr>\n      <th>0</th>\n      <td>T</td>\n      <td>F</td>\n      <td>S</td>\n      <td>1.0</td>\n      <td>38000.00</td>\n      <td>N</td>\n      <td>24.393333</td>\n      <td>23.56</td>\n      <td>0.0</td>\n      <td>206.08</td>\n      <td>0.0</td>\n      <td>CC</td>\n      <td>Budget</td>\n      <td>Intnl_discount</td>\n      <td>229.64</td>\n      <td>3.0</td>\n    </tr>\n    <tr>\n      <th>1</th>\n      <td>F</td>\n      <td>M</td>\n      <td>M</td>\n      <td>2.0</td>\n      <td>29616.00</td>\n      <td>N</td>\n      <td>49.426667</td>\n      <td>29.78</td>\n      <td>0.0</td>\n      <td>45.50</td>\n      <td>0.0</td>\n      <td>CH</td>\n      <td>FreeLocal</td>\n      <td>Standard</td>\n      <td>75.29</td>\n      <td>2.0</td>\n    </tr>\n    <tr>\n      <th>2</th>\n      <td>F</td>\n      <td>M</td>\n      <td>M</td>\n      <td>0.0</td>\n      <td>19732.80</td>\n      <td>N</td>\n      <td>50.673333</td>\n      <td>24.81</td>\n      <td>0.0</td>\n      <td>22.44</td>\n      <td>0.0</td>\n      <td>CC</td>\n      <td>FreeLocal</td>\n      <td>Standard</td>\n      <td>47.25</td>\n      <td>3.0</td>\n    </tr>\n    <tr>\n      <th>3</th>\n      <td>F</td>\n      <td>M</td>\n      <td>S</td>\n      <td>2.0</td>\n      <td>96.33</td>\n      <td>N</td>\n      <td>56.473333</td>\n      <td>26.13</td>\n      <td>0.0</td>\n      <td>32.88</td>\n      <td>1.0</td>\n      <td>CC</td>\n      <td>Budget</td>\n      <td>Standard</td>\n      <td>59.01</td>\n      <td>1.0</td>\n    </tr>\n    <tr>\n      <th>4</th>\n      <td>F</td>\n      <td>F</td>\n      <td>M</td>\n      <td>2.0</td>\n      <td>52004.80</td>\n      <td>N</td>\n      <td>25.140000</td>\n      <td>5.03</td>\n      <td>0.0</td>\n      <td>23.11</td>\n      <td>0.0</td>\n      <td>CH</td>\n      <td>Budget</td>\n      <td>Intnl_discount</td>\n      <td>28.14</td>\n      <td>1.0</td>\n    </tr>\n  </tbody>\n</table>\n</div>"
                    }, 
                    "output_type": "execute_result", 
                    "metadata": {}
                }
            ], 
            "metadata": {
                "scrolled": false
            }, 
            "cell_type": "code"
        }, 
        {
            "execution_count": 2, 
            "source": "numerical_columns = list(df1.select_dtypes(include=[np.number]).columns)\ncategorical_columns = list(df1.select_dtypes(include=[object]).columns)\ndate_columns = list(df1.select_dtypes(include=['<M8[ns]']).columns)", 
            "outputs": [
                {
                    "ename": "NameError", 
                    "traceback": [
                        "\u001b[0;31m\u001b[0m", 
                        "\u001b[0;31mNameError\u001b[0mTraceback (most recent call last)", 
                        "\u001b[0;32m<ipython-input-2-f9dd21a73d4a>\u001b[0m in \u001b[0;36m<module>\u001b[0;34m()\u001b[0m\n\u001b[0;32m----> 1\u001b[0;31m \u001b[0mnumerical_columns\u001b[0m \u001b[0;34m=\u001b[0m \u001b[0mlist\u001b[0m\u001b[0;34m(\u001b[0m\u001b[0mdf1\u001b[0m\u001b[0;34m.\u001b[0m\u001b[0mselect_dtypes\u001b[0m\u001b[0;34m(\u001b[0m\u001b[0minclude\u001b[0m\u001b[0;34m=\u001b[0m\u001b[0;34m[\u001b[0m\u001b[0mnp\u001b[0m\u001b[0;34m.\u001b[0m\u001b[0mnumber\u001b[0m\u001b[0;34m]\u001b[0m\u001b[0;34m)\u001b[0m\u001b[0;34m.\u001b[0m\u001b[0mcolumns\u001b[0m\u001b[0;34m)\u001b[0m\u001b[0;34m\u001b[0m\u001b[0m\n\u001b[0m\u001b[1;32m      2\u001b[0m \u001b[0mcategorical_columns\u001b[0m \u001b[0;34m=\u001b[0m \u001b[0mlist\u001b[0m\u001b[0;34m(\u001b[0m\u001b[0mdf1\u001b[0m\u001b[0;34m.\u001b[0m\u001b[0mselect_dtypes\u001b[0m\u001b[0;34m(\u001b[0m\u001b[0minclude\u001b[0m\u001b[0;34m=\u001b[0m\u001b[0;34m[\u001b[0m\u001b[0mobject\u001b[0m\u001b[0;34m]\u001b[0m\u001b[0;34m)\u001b[0m\u001b[0;34m.\u001b[0m\u001b[0mcolumns\u001b[0m\u001b[0;34m)\u001b[0m\u001b[0;34m\u001b[0m\u001b[0m\n\u001b[1;32m      3\u001b[0m \u001b[0mdate_columns\u001b[0m \u001b[0;34m=\u001b[0m \u001b[0mlist\u001b[0m\u001b[0;34m(\u001b[0m\u001b[0mdf1\u001b[0m\u001b[0;34m.\u001b[0m\u001b[0mselect_dtypes\u001b[0m\u001b[0;34m(\u001b[0m\u001b[0minclude\u001b[0m\u001b[0;34m=\u001b[0m\u001b[0;34m[\u001b[0m\u001b[0;34m'<M8[ns]'\u001b[0m\u001b[0;34m]\u001b[0m\u001b[0;34m)\u001b[0m\u001b[0;34m.\u001b[0m\u001b[0mcolumns\u001b[0m\u001b[0;34m)\u001b[0m\u001b[0;34m\u001b[0m\u001b[0m\n", 
                        "\u001b[0;31mNameError\u001b[0m: name 'np' is not defined"
                    ], 
                    "evalue": "name 'np' is not defined", 
                    "output_type": "error"
                }
            ], 
            "metadata": {}, 
            "cell_type": "code"
        }, 
        {
            "execution_count": 80, 
            "source": "from collections import defaultdict, Counter", 
            "outputs": [], 
            "metadata": {
                "collapsed": true
            }, 
            "cell_type": "code"
        }, 
        {
            "execution_count": 81, 
            "source": "columns_to_drop = []\n\n# For categorical variables with more than that many values, we only keep the most frequent ones\nLIMIT_DUMMIES = 100\n\n# Only keep the top 100 values\ndef select_dummy_values(train, features):\n    dummy_values = {}\n    for feature in features:\n        values = [\n            value\n            for (value, _) in Counter(train[feature]).most_common(LIMIT_DUMMIES)\n        ]\n        dummy_values[feature] = values\n    return dummy_values\n\nDUMMY_VALUES = select_dummy_values(df1, [x for x in categorical_columns if not x in columns_to_drop])\n\n\ndef dummy_encode_dataframe(df1):\n    for (feature, dummy_values) in DUMMY_VALUES.items():\n        for dummy_value in dummy_values:\n            dummy_name = u'%s_value_%s' % (feature, dummy_value.decode('utf-8'))\n            df1[dummy_name] = (df1[feature] == dummy_value).astype(float)\n        del df1[feature]\n        print 'Dummy-encoded feature %s' % feature\n\ndummy_encode_dataframe(df1)", 
            "outputs": [
                {
                    "name": "stdout", 
                    "output_type": "stream", 
                    "text": "Dummy-encoded feature Status\nDummy-encoded feature Paymethod\nDummy-encoded feature Gender\nDummy-encoded feature Car Owner\nDummy-encoded feature LongDistanceBilltype\nDummy-encoded feature CHURN\nDummy-encoded feature LocalBilltype\n"
                }
            ], 
            "metadata": {
                "scrolled": true
            }, 
            "cell_type": "code"
        }, 
        {
            "execution_count": 82, 
            "source": "df1.head()", 
            "outputs": [
                {
                    "execution_count": 82, 
                    "data": {
                        "text/plain": "   Children  Est Income        Age  LongDistance  International   Local  \\\n0       1.0    38000.00  24.393333         23.56            0.0  206.08   \n1       2.0    29616.00  49.426667         29.78            0.0   45.50   \n2       0.0    19732.80  50.673333         24.81            0.0   22.44   \n3       2.0       96.33  56.473333         26.13            0.0   32.88   \n4       2.0    52004.80  25.140000          5.03            0.0   23.11   \n\n   Dropped   Usage  RatePlan  Status_value_M              ...                \\\n0      0.0  229.64       3.0             0.0              ...                 \n1      0.0   75.29       2.0             1.0              ...                 \n2      0.0   47.25       3.0             1.0              ...                 \n3      1.0   59.01       1.0             0.0              ...                 \n4      0.0   28.14       1.0             1.0              ...                 \n\n   Gender_value_F  Gender_value_M  Car Owner_value_N  Car Owner_value_Y  \\\n0             1.0             0.0                1.0                0.0   \n1             0.0             1.0                1.0                0.0   \n2             0.0             1.0                1.0                0.0   \n3             0.0             1.0                1.0                0.0   \n4             1.0             0.0                1.0                0.0   \n\n   LongDistanceBilltype_value_Standard  \\\n0                                  0.0   \n1                                  1.0   \n2                                  1.0   \n3                                  1.0   \n4                                  0.0   \n\n   LongDistanceBilltype_value_Intnl_discount  CHURN_value_F  CHURN_value_T  \\\n0                                        1.0            0.0            1.0   \n1                                        0.0            1.0            0.0   \n2                                        0.0            1.0            0.0   \n3                                        0.0            1.0            0.0   \n4                                        1.0            1.0            0.0   \n\n   LocalBilltype_value_Budget  LocalBilltype_value_FreeLocal  \n0                         1.0                            0.0  \n1                         0.0                            1.0  \n2                         0.0                            1.0  \n3                         1.0                            0.0  \n4                         1.0                            0.0  \n\n[5 rows x 25 columns]", 
                        "text/html": "<div>\n<style scoped>\n    .dataframe tbody tr th:only-of-type {\n        vertical-align: middle;\n    }\n\n    .dataframe tbody tr th {\n        vertical-align: top;\n    }\n\n    .dataframe thead th {\n        text-align: right;\n    }\n</style>\n<table border=\"1\" class=\"dataframe\">\n  <thead>\n    <tr style=\"text-align: right;\">\n      <th></th>\n      <th>Children</th>\n      <th>Est Income</th>\n      <th>Age</th>\n      <th>LongDistance</th>\n      <th>International</th>\n      <th>Local</th>\n      <th>Dropped</th>\n      <th>Usage</th>\n      <th>RatePlan</th>\n      <th>Status_value_M</th>\n      <th>...</th>\n      <th>Gender_value_F</th>\n      <th>Gender_value_M</th>\n      <th>Car Owner_value_N</th>\n      <th>Car Owner_value_Y</th>\n      <th>LongDistanceBilltype_value_Standard</th>\n      <th>LongDistanceBilltype_value_Intnl_discount</th>\n      <th>CHURN_value_F</th>\n      <th>CHURN_value_T</th>\n      <th>LocalBilltype_value_Budget</th>\n      <th>LocalBilltype_value_FreeLocal</th>\n    </tr>\n  </thead>\n  <tbody>\n    <tr>\n      <th>0</th>\n      <td>1.0</td>\n      <td>38000.00</td>\n      <td>24.393333</td>\n      <td>23.56</td>\n      <td>0.0</td>\n      <td>206.08</td>\n      <td>0.0</td>\n      <td>229.64</td>\n      <td>3.0</td>\n      <td>0.0</td>\n      <td>...</td>\n      <td>1.0</td>\n      <td>0.0</td>\n      <td>1.0</td>\n      <td>0.0</td>\n      <td>0.0</td>\n      <td>1.0</td>\n      <td>0.0</td>\n      <td>1.0</td>\n      <td>1.0</td>\n      <td>0.0</td>\n    </tr>\n    <tr>\n      <th>1</th>\n      <td>2.0</td>\n      <td>29616.00</td>\n      <td>49.426667</td>\n      <td>29.78</td>\n      <td>0.0</td>\n      <td>45.50</td>\n      <td>0.0</td>\n      <td>75.29</td>\n      <td>2.0</td>\n      <td>1.0</td>\n      <td>...</td>\n      <td>0.0</td>\n      <td>1.0</td>\n      <td>1.0</td>\n      <td>0.0</td>\n      <td>1.0</td>\n      <td>0.0</td>\n      <td>1.0</td>\n      <td>0.0</td>\n      <td>0.0</td>\n      <td>1.0</td>\n    </tr>\n    <tr>\n      <th>2</th>\n      <td>0.0</td>\n      <td>19732.80</td>\n      <td>50.673333</td>\n      <td>24.81</td>\n      <td>0.0</td>\n      <td>22.44</td>\n      <td>0.0</td>\n      <td>47.25</td>\n      <td>3.0</td>\n      <td>1.0</td>\n      <td>...</td>\n      <td>0.0</td>\n      <td>1.0</td>\n      <td>1.0</td>\n      <td>0.0</td>\n      <td>1.0</td>\n      <td>0.0</td>\n      <td>1.0</td>\n      <td>0.0</td>\n      <td>0.0</td>\n      <td>1.0</td>\n    </tr>\n    <tr>\n      <th>3</th>\n      <td>2.0</td>\n      <td>96.33</td>\n      <td>56.473333</td>\n      <td>26.13</td>\n      <td>0.0</td>\n      <td>32.88</td>\n      <td>1.0</td>\n      <td>59.01</td>\n      <td>1.0</td>\n      <td>0.0</td>\n      <td>...</td>\n      <td>0.0</td>\n      <td>1.0</td>\n      <td>1.0</td>\n      <td>0.0</td>\n      <td>1.0</td>\n      <td>0.0</td>\n      <td>1.0</td>\n      <td>0.0</td>\n      <td>1.0</td>\n      <td>0.0</td>\n    </tr>\n    <tr>\n      <th>4</th>\n      <td>2.0</td>\n      <td>52004.80</td>\n      <td>25.140000</td>\n      <td>5.03</td>\n      <td>0.0</td>\n      <td>23.11</td>\n      <td>0.0</td>\n      <td>28.14</td>\n      <td>1.0</td>\n      <td>1.0</td>\n      <td>...</td>\n      <td>1.0</td>\n      <td>0.0</td>\n      <td>1.0</td>\n      <td>0.0</td>\n      <td>0.0</td>\n      <td>1.0</td>\n      <td>1.0</td>\n      <td>0.0</td>\n      <td>1.0</td>\n      <td>0.0</td>\n    </tr>\n  </tbody>\n</table>\n<p>5 rows \u00d7 25 columns</p>\n</div>"
                    }, 
                    "output_type": "execute_result", 
                    "metadata": {}
                }
            ], 
            "metadata": {}, 
            "cell_type": "code"
        }, 
        {
            "execution_count": 83, 
            "source": "cols = list(df1)\n# move the column to head of list using index, pop and insert\ncols.insert(0, cols.pop(cols.index('CHURN_value_T')))\ncols\n", 
            "outputs": [
                {
                    "execution_count": 83, 
                    "data": {
                        "text/plain": "[u'CHURN_value_T',\n 'Children',\n 'Est Income',\n 'Age',\n 'LongDistance',\n 'International',\n 'Local',\n 'Dropped',\n 'Usage',\n 'RatePlan',\n u'Status_value_M',\n u'Status_value_S',\n u'Status_value_D',\n u'Paymethod_value_CC',\n u'Paymethod_value_Auto',\n u'Paymethod_value_CH',\n u'Gender_value_F',\n u'Gender_value_M',\n u'Car Owner_value_N',\n u'Car Owner_value_Y',\n u'LongDistanceBilltype_value_Standard',\n u'LongDistanceBilltype_value_Intnl_discount',\n u'CHURN_value_F',\n u'LocalBilltype_value_Budget',\n u'LocalBilltype_value_FreeLocal']"
                    }, 
                    "output_type": "execute_result", 
                    "metadata": {}
                }
            ], 
            "metadata": {}, 
            "cell_type": "code"
        }, 
        {
            "execution_count": 84, 
            "source": "df1 = df1.ix[:, cols]\ndf1.drop('CHURN_value_F',1)\ndf1.rename(columns={'CHURN_value_T': 'Churn'}, inplace=True)", 
            "outputs": [
                {
                    "name": "stderr", 
                    "output_type": "stream", 
                    "text": "/usr/local/src/bluemix_jupyter_bundle.v71/notebook/lib/python2.7/site-packages/ipykernel/__main__.py:1: DeprecationWarning: \n.ix is deprecated. Please use\n.loc for label based indexing or\n.iloc for positional indexing\n\nSee the documentation here:\nhttp://pandas.pydata.org/pandas-docs/stable/indexing.html#ix-indexer-is-deprecated\n  if __name__ == '__main__':\n"
                }
            ], 
            "metadata": {}, 
            "cell_type": "code"
        }, 
        {
            "execution_count": 85, 
            "source": "array = df1.values\nx = array[:,1:25]\ny = array[:,0]", 
            "outputs": [], 
            "metadata": {
                "collapsed": true
            }, 
            "cell_type": "code"
        }, 
        {
            "execution_count": 86, 
            "source": "x[:]", 
            "outputs": [
                {
                    "execution_count": 86, 
                    "data": {
                        "text/plain": "array([[  1.00000000e+00,   3.80000000e+04,   2.43933330e+01, ...,\n          0.00000000e+00,   1.00000000e+00,   0.00000000e+00],\n       [  2.00000000e+00,   2.96160000e+04,   4.94266670e+01, ...,\n          1.00000000e+00,   0.00000000e+00,   1.00000000e+00],\n       [  0.00000000e+00,   1.97328000e+04,   5.06733330e+01, ...,\n          1.00000000e+00,   0.00000000e+00,   1.00000000e+00],\n       ..., \n       [  0.00000000e+00,   8.38919000e+04,   6.10200000e+01, ...,\n          0.00000000e+00,   1.00000000e+00,   0.00000000e+00],\n       [  2.00000000e+00,   2.82208000e+04,   3.87666670e+01, ...,\n          0.00000000e+00,   0.00000000e+00,   1.00000000e+00],\n       [  0.00000000e+00,   2.85891000e+04,   1.56000000e+01, ...,\n          0.00000000e+00,   0.00000000e+00,   1.00000000e+00]])"
                    }, 
                    "output_type": "execute_result", 
                    "metadata": {}
                }
            ], 
            "metadata": {}, 
            "cell_type": "code"
        }, 
        {
            "execution_count": 87, 
            "source": "y[:]", 
            "outputs": [
                {
                    "execution_count": 87, 
                    "data": {
                        "text/plain": "array([ 1.,  0.,  0., ...,  1.,  1.,  1.])"
                    }, 
                    "output_type": "execute_result", 
                    "metadata": {}
                }
            ], 
            "metadata": {
                "scrolled": true
            }, 
            "cell_type": "code"
        }, 
        {
            "source": "### Chi Square Test ", 
            "metadata": {}, 
            "cell_type": "markdown"
        }, 
        {
            "execution_count": 88, 
            "source": "#feature extraction \ntest = SelectKBest(score_func=chi2, k=4)\nfit = test.fit(x,y)\n#summarize score\nprint (fit.scores_)\n\n", 
            "outputs": [
                {
                    "name": "stdout", 
                    "output_type": "stream", 
                    "text": "[  1.12820793e+02   9.74480451e+05   8.85022284e+00   4.35573208e+02\n   1.24628119e+02   9.15789005e+02   1.54643145e+01   1.03031501e+03\n   5.83161319e-02   1.15331241e+02   1.76246885e+02   6.08165207e-01\n   4.95382522e+00   2.11138523e+01   9.99316613e-01   8.74364055e+00\n   1.53421746e+01   8.84519247e-02   1.62566862e-01   6.72168068e+00\n   1.50107016e+01   8.41000000e+02   6.77774997e-03   8.11887922e-03]\n"
                }
            ], 
            "metadata": {}, 
            "cell_type": "code"
        }, 
        {
            "execution_count": 89, 
            "source": "features = fit.transform(x)\nprint features[0:5,:]", 
            "outputs": [
                {
                    "name": "stdout", 
                    "output_type": "stream", 
                    "text": "[[  3.80000000e+04   2.06080000e+02   2.29640000e+02   0.00000000e+00]\n [  2.96160000e+04   4.55000000e+01   7.52900000e+01   1.00000000e+00]\n [  1.97328000e+04   2.24400000e+01   4.72500000e+01   1.00000000e+00]\n [  9.63300000e+01   3.28800000e+01   5.90100000e+01   1.00000000e+00]\n [  5.20048000e+04   2.31100000e+01   2.81400000e+01   1.00000000e+00]]\n"
                }
            ], 
            "metadata": {}, 
            "cell_type": "code"
        }, 
        {
            "execution_count": 90, 
            "source": "features.shape", 
            "outputs": [
                {
                    "execution_count": 90, 
                    "data": {
                        "text/plain": "(2066, 4)"
                    }, 
                    "output_type": "execute_result", 
                    "metadata": {}
                }
            ], 
            "metadata": {
                "scrolled": true
            }, 
            "cell_type": "code"
        }, 
        {
            "source": "### Recursive Feature Elimination (RFE)\nThe Recursive Feature Elimination (or RFE) works by recursively removing attributes and\nbuilding a model on those attributes that remain. It uses the model accuracy to identify which attributes (and combination of attributes) contribute the most to predicting the target attribute.\nYou can learn more about the RFE class3 in the scikit-learn documentation. The example below\nuses RFE with the logistic regression algorithm to select the top 3 features. The choice of\nalgorithm does not matter too much as long as it is skillful and consistent.", 
            "metadata": {}, 
            "cell_type": "markdown"
        }, 
        {
            "execution_count": 91, 
            "source": "df1.info()", 
            "outputs": [
                {
                    "name": "stdout", 
                    "output_type": "stream", 
                    "text": "<class 'pandas.core.frame.DataFrame'>\nRangeIndex: 2066 entries, 0 to 2065\nData columns (total 25 columns):\nChurn                                        2066 non-null float64\nChildren                                     2066 non-null float64\nEst Income                                   2066 non-null float64\nAge                                          2066 non-null float64\nLongDistance                                 2066 non-null float64\nInternational                                2066 non-null float64\nLocal                                        2066 non-null float64\nDropped                                      2066 non-null float64\nUsage                                        2066 non-null float64\nRatePlan                                     2066 non-null float64\nStatus_value_M                               2066 non-null float64\nStatus_value_S                               2066 non-null float64\nStatus_value_D                               2066 non-null float64\nPaymethod_value_CC                           2066 non-null float64\nPaymethod_value_Auto                         2066 non-null float64\nPaymethod_value_CH                           2066 non-null float64\nGender_value_F                               2066 non-null float64\nGender_value_M                               2066 non-null float64\nCar Owner_value_N                            2066 non-null float64\nCar Owner_value_Y                            2066 non-null float64\nLongDistanceBilltype_value_Standard          2066 non-null float64\nLongDistanceBilltype_value_Intnl_discount    2066 non-null float64\nCHURN_value_F                                2066 non-null float64\nLocalBilltype_value_Budget                   2066 non-null float64\nLocalBilltype_value_FreeLocal                2066 non-null float64\ndtypes: float64(25)\nmemory usage: 403.6 KB\n"
                }
            ], 
            "metadata": {}, 
            "cell_type": "code"
        }, 
        {
            "execution_count": 92, 
            "source": "from sklearn.feature_selection import RFE\nfrom sklearn.linear_model import LogisticRegression\nmodel = LogisticRegression()\nrfe = RFE(model, 3)\nfit = rfe.fit(x, y)\nprint(\"Num Features: %d\" % fit.n_features_)\nprint(\"Selected Features: %s\" % fit.support_)\nprint(\"Feature Ranking: %s\" % fit.ranking_)", 
            "outputs": [
                {
                    "name": "stdout", 
                    "output_type": "stream", 
                    "text": "Num Features: 3\nSelected Features: [False False False False False False False False False False False False\n False False False False False False False False False  True  True  True]\nFeature Ranking: [11 22 19 14 13 15 17 16 12 21  4 20  7 18  8  6  5  2  3  9 10  1  1  1]\n"
                }
            ], 
            "metadata": {}, 
            "cell_type": "code"
        }, 
        {
            "source": "### PCA\nPrincipal Component Analysis (or PCA) uses linear algebra to transform the dataset into a\ncompressed form. Generally this is called a data reduction technique. A property of PCA is that\nyou can choose the number of dimensions or principal components in the transformed result. In\nthe example below, we use PCA and select 3 principal components. Learn more about the PCA\nclass in scikit-learn by reviewing the API4.", 
            "metadata": {}, 
            "cell_type": "markdown"
        }, 
        {
            "execution_count": 93, 
            "source": "from sklearn.decomposition import PCA\npca = PCA(n_components=3)\nfit = pca.fit(x)\n# summarize components\nprint(\"Explained Variance: %s\" % fit.explained_variance_ratio_)\nprint(fit.components_)", 
            "outputs": [
                {
                    "name": "stdout", 
                    "output_type": "stream", 
                    "text": "Explained Variance: [  9.99992470e-01   7.15351882e-06   2.28254757e-07]\n[[ -3.15033677e-06   9.99999961e-01   8.05916005e-05  -2.54535748e-05\n    3.31818376e-06  -1.85252185e-04   4.75954444e-07  -1.91406548e-04\n    9.16087850e-07   1.85405988e-06  -2.00665132e-06   1.52591441e-07\n    3.88778338e-08  -1.99782827e-07   1.60904993e-07  -1.42997136e-06\n    1.42997136e-06  -1.55170623e-06   1.55170623e-06  -6.24259726e-07\n    6.24259726e-07   2.55311067e-06  -1.77230926e-06   1.77230926e-06]\n [ -4.23071349e-04   2.67897488e-04  -1.06040939e-02   3.26513150e-02\n    1.52640977e-03   6.92864582e-01   3.32600510e-04   7.20247163e-01\n    3.55782948e-04  -5.05401522e-04   4.89064153e-04   1.63373685e-05\n    3.48493664e-04  -6.95951354e-06  -3.41534151e-04   1.57344901e-04\n   -1.57344901e-04  -1.77115914e-04   1.77115914e-04   3.19594394e-04\n   -3.19594394e-04  -4.86888251e-04   1.31665149e-04  -1.31665149e-04]\n [ -3.67674483e-03  -7.88107586e-05   9.92240317e-01  -1.08557251e-01\n   -2.98167264e-02   4.56110412e-02  -1.11190411e-03  -2.42908942e-02\n    3.91282773e-03  -2.34896251e-03   2.41059772e-03  -6.16352126e-05\n   -2.30328250e-03   2.43550062e-03  -1.32218115e-04   1.45422370e-03\n   -1.45422370e-03   1.09522212e-03  -1.09522212e-03  -6.08472041e-04\n    6.08472041e-04   3.60927416e-04   5.23775188e-03  -5.23775188e-03]]\n"
                }
            ], 
            "metadata": {}, 
            "cell_type": "code"
        }, 
        {
            "source": "### Feature Importance with Extra Tree\nBagged decision trees like Random Forest and Extra Trees can be used to estimate the importance\nof features. In the example below we construct a ExtraTreesClassifier classi\fer for the Pima\nIndians onset of diabetes dataset. You can learn more about the ExtraTreesClassifier class5\nin the scikit-learn API.", 
            "metadata": {}, 
            "cell_type": "markdown"
        }, 
        {
            "execution_count": 94, 
            "source": "from sklearn.ensemble import ExtraTreesClassifier\nmodel = ExtraTreesClassifier()\nmodel.fit(x, y)\nprint(model.feature_importances_)\npx2 = (model.feature_importances_)", 
            "outputs": [
                {
                    "name": "stdout", 
                    "output_type": "stream", 
                    "text": "[  4.74920509e-02   2.75551088e-02   1.27101376e-02   9.44423403e-03\n   1.02681512e-02   1.38895808e-02   5.06453608e-03   1.07125375e-02\n   5.93158189e-03   4.02841556e-02   1.89452724e-02   3.01616910e-05\n   7.24070644e-03   1.69596667e-02   3.71723761e-03   6.63490258e-03\n   1.70938361e-02   7.11089982e-03   4.82140717e-03   1.16757423e-02\n   4.95542696e-03   7.08618513e-01   4.19397407e-03   4.65017909e-03]\n"
                }
            ], 
            "metadata": {}, 
            "cell_type": "code"
        }, 
        {
            "execution_count": 95, 
            "source": "df1.info()", 
            "outputs": [
                {
                    "name": "stdout", 
                    "output_type": "stream", 
                    "text": "<class 'pandas.core.frame.DataFrame'>\nRangeIndex: 2066 entries, 0 to 2065\nData columns (total 25 columns):\nChurn                                        2066 non-null float64\nChildren                                     2066 non-null float64\nEst Income                                   2066 non-null float64\nAge                                          2066 non-null float64\nLongDistance                                 2066 non-null float64\nInternational                                2066 non-null float64\nLocal                                        2066 non-null float64\nDropped                                      2066 non-null float64\nUsage                                        2066 non-null float64\nRatePlan                                     2066 non-null float64\nStatus_value_M                               2066 non-null float64\nStatus_value_S                               2066 non-null float64\nStatus_value_D                               2066 non-null float64\nPaymethod_value_CC                           2066 non-null float64\nPaymethod_value_Auto                         2066 non-null float64\nPaymethod_value_CH                           2066 non-null float64\nGender_value_F                               2066 non-null float64\nGender_value_M                               2066 non-null float64\nCar Owner_value_N                            2066 non-null float64\nCar Owner_value_Y                            2066 non-null float64\nLongDistanceBilltype_value_Standard          2066 non-null float64\nLongDistanceBilltype_value_Intnl_discount    2066 non-null float64\nCHURN_value_F                                2066 non-null float64\nLocalBilltype_value_Budget                   2066 non-null float64\nLocalBilltype_value_FreeLocal                2066 non-null float64\ndtypes: float64(25)\nmemory usage: 403.6 KB\n"
                }
            ], 
            "metadata": {
                "scrolled": true
            }, 
            "cell_type": "code"
        }, 
        {
            "execution_count": 101, 
            "source": "df4 = pd.DataFrame(px2)\ndf4.sort_values('Predictor Importance')\ndf4.rename(index={0:'Children',1:'Est Income',2:'Age'}, columns={0:'Predictor Importance'}, inplace=True)\ndf4\n#Top Three Important Factors to predict Churn", 
            "outputs": [
                {
                    "execution_count": 101, 
                    "data": {
                        "text/plain": "            Predictor Importance\nChildren                0.047492\nEst Income              0.027555\nAge                     0.012710\n3                       0.009444\n4                       0.010268\n5                       0.013890\n6                       0.005065\n7                       0.010713\n8                       0.005932\n9                       0.040284\n10                      0.018945\n11                      0.000030\n12                      0.007241\n13                      0.016960\n14                      0.003717\n15                      0.006635\n16                      0.017094\n17                      0.007111\n18                      0.004821\n19                      0.011676\n20                      0.004955\n21                      0.708619\n22                      0.004194\n23                      0.004650", 
                        "text/html": "<div>\n<style scoped>\n    .dataframe tbody tr th:only-of-type {\n        vertical-align: middle;\n    }\n\n    .dataframe tbody tr th {\n        vertical-align: top;\n    }\n\n    .dataframe thead th {\n        text-align: right;\n    }\n</style>\n<table border=\"1\" class=\"dataframe\">\n  <thead>\n    <tr style=\"text-align: right;\">\n      <th></th>\n      <th>Predictor Importance</th>\n    </tr>\n  </thead>\n  <tbody>\n    <tr>\n      <th>Children</th>\n      <td>0.047492</td>\n    </tr>\n    <tr>\n      <th>Est Income</th>\n      <td>0.027555</td>\n    </tr>\n    <tr>\n      <th>Age</th>\n      <td>0.012710</td>\n    </tr>\n    <tr>\n      <th>3</th>\n      <td>0.009444</td>\n    </tr>\n    <tr>\n      <th>4</th>\n      <td>0.010268</td>\n    </tr>\n    <tr>\n      <th>5</th>\n      <td>0.013890</td>\n    </tr>\n    <tr>\n      <th>6</th>\n      <td>0.005065</td>\n    </tr>\n    <tr>\n      <th>7</th>\n      <td>0.010713</td>\n    </tr>\n    <tr>\n      <th>8</th>\n      <td>0.005932</td>\n    </tr>\n    <tr>\n      <th>9</th>\n      <td>0.040284</td>\n    </tr>\n    <tr>\n      <th>10</th>\n      <td>0.018945</td>\n    </tr>\n    <tr>\n      <th>11</th>\n      <td>0.000030</td>\n    </tr>\n    <tr>\n      <th>12</th>\n      <td>0.007241</td>\n    </tr>\n    <tr>\n      <th>13</th>\n      <td>0.016960</td>\n    </tr>\n    <tr>\n      <th>14</th>\n      <td>0.003717</td>\n    </tr>\n    <tr>\n      <th>15</th>\n      <td>0.006635</td>\n    </tr>\n    <tr>\n      <th>16</th>\n      <td>0.017094</td>\n    </tr>\n    <tr>\n      <th>17</th>\n      <td>0.007111</td>\n    </tr>\n    <tr>\n      <th>18</th>\n      <td>0.004821</td>\n    </tr>\n    <tr>\n      <th>19</th>\n      <td>0.011676</td>\n    </tr>\n    <tr>\n      <th>20</th>\n      <td>0.004955</td>\n    </tr>\n    <tr>\n      <th>21</th>\n      <td>0.708619</td>\n    </tr>\n    <tr>\n      <th>22</th>\n      <td>0.004194</td>\n    </tr>\n    <tr>\n      <th>23</th>\n      <td>0.004650</td>\n    </tr>\n  </tbody>\n</table>\n</div>"
                    }, 
                    "output_type": "execute_result", 
                    "metadata": {}
                }
            ], 
            "metadata": {
                "scrolled": false
            }, 
            "cell_type": "code"
        }, 
        {
            "source": "### Simple Logistic Regression with Train_Test_Split", 
            "metadata": {}, 
            "cell_type": "markdown"
        }, 
        {
            "execution_count": 102, 
            "source": "from sklearn.model_selection import train_test_split\nfrom sklearn.linear_model import LogisticRegression", 
            "outputs": [], 
            "metadata": {
                "collapsed": true
            }, 
            "cell_type": "code"
        }, 
        {
            "execution_count": 109, 
            "source": "test_size = 0.33\nseed = 23\nx_train, x_test, y_train, y_test = train_test_split(x,y,test_size = test_size, random_state = seed)\nmodel = LogisticRegression()\nmodel.fit(x_train, y_train)\nresult = model.score(x_test, y_test)\nresult\n", 
            "outputs": [
                {
                    "execution_count": 109, 
                    "data": {
                        "text/plain": "0.96334310850439886"
                    }, 
                    "output_type": "execute_result", 
                    "metadata": {}
                }
            ], 
            "metadata": {}, 
            "cell_type": "code"
        }, 
        {
            "source": "### K-fold Cross-Validation\nCross-validation is an approach that you can use to estimate the performance of a machine\nlearning algorithm with less variance than a single train-test set split. It works by splitting\nthe dataset into k-parts (e.g. k = 5 or k = 10). Each split of the data is called a fold. The\nalgorithm is trained on k \udbc0\udc00 1 folds with one held back and tested on the held back fold. This is\nrepeated so that each fold of the dataset is given a chance to be the held back test set. After\nrunning cross-validation you end up with k di\u000berent performance scores that you can summarize\nusing a mean and a standard deviation.\nThe result is a more reliable estimate of the performance of the algorithm on new data. It is\nmore accurate because the algorithm is trained and evaluated multiple times on di\u000berent data.\nThe choice of k must allow the size of each test partition to be large enough to be a reasonable\nsample of the problem, whilst allowing enough repetitions of the train-test evaluation of the\nalgorithm to provide a fair estimate of the algorithms performance on unseen data. For modest\nsized datasets in the thousands or tens of thousands of records, k values of 3, 5 and 10 are\ncommon. In the example below we use 10-fold cross-validation.", 
            "metadata": {}, 
            "cell_type": "markdown"
        }, 
        {
            "execution_count": 110, 
            "source": "from sklearn.model_selection import KFold\nfrom sklearn.model_selection import cross_val_score", 
            "outputs": [], 
            "metadata": {
                "collapsed": true
            }, 
            "cell_type": "code"
        }, 
        {
            "execution_count": 113, 
            "source": "num_folds = 10\nseed = 7\nkfold = KFold(n_splits=num_folds, random_state=seed)\nmodel = LogisticRegression()\nresults = cross_val_score(model, x, y, cv=kfold)\nresults", 
            "outputs": [
                {
                    "execution_count": 113, 
                    "data": {
                        "text/plain": "array([ 1.        ,  0.96618357,  1.        ,  1.        ,  0.98067633,\n        0.96135266,  1.        ,  1.        ,  0.99514563,  0.99514563])"
                    }, 
                    "output_type": "execute_result", 
                    "metadata": {}
                }
            ], 
            "metadata": {}, 
            "cell_type": "code"
        }, 
        {
            "source": "### K-fold Variation: Leave One Out\nYou can con\fgure cross-validation so that the size of the fold is 1 (k is set to the number of\nobservations in your dataset). This variation of cross-validation is called leave-one-out cross-\nvalidation. The result is a large number of performance measures that can be summarized\n9.5. Repeated Random Test-Train Splits 60\nin an e\u000bort to give a more reasonable estimate of the accuracy of your model on unseen\ndata. A downside is that it can be a computationally more expensive procedure than k-fold\ncross-validation. In the example below we use leave-one-out cross-validation.", 
            "metadata": {}, 
            "cell_type": "markdown"
        }, 
        {
            "execution_count": 114, 
            "source": "from sklearn.model_selection import LeaveOneOut", 
            "outputs": [], 
            "metadata": {
                "collapsed": true
            }, 
            "cell_type": "code"
        }, 
        {
            "execution_count": 116, 
            "source": "loocv = LeaveOneOut()\nmodel = LogisticRegression()\nresults = cross_val_score(model, x, y, cv=loocv)\nprint(\"Accuracy: %.3f%% (%.3f%%)\" % (results.mean()*100.0, results.std()*100.0))", 
            "outputs": [
                {
                    "name": "stdout", 
                    "output_type": "stream", 
                    "text": "Accuracy: 97.289% (16.239%)\n"
                }
            ], 
            "metadata": {}, 
            "cell_type": "code"
        }
    ]
}
